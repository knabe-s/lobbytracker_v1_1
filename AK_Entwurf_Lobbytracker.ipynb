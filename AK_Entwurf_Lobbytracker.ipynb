{
  "nbformat": 4,
  "nbformat_minor": 0,
  "metadata": {
    "colab": {
      "provenance": [],
      "collapsed_sections": []
    },
    "kernelspec": {
      "name": "python3",
      "display_name": "Python 3"
    },
    "language_info": {
      "name": "python"
    }
  },
  "cells": [
    {
      "cell_type": "markdown",
      "source": [
        "# Entwurf Lobbytracker\n",
        "\n",
        "[Dokumentation](https://github.com/knabe-s/lobbytracker_v1/wiki/Dokumentation)"
      ],
      "metadata": {
        "id": "XieWHDRl5ReT"
      }
    },
    {
      "cell_type": "markdown",
      "source": [
        "### Graphen initialisieren"
      ],
      "metadata": {
        "id": "HnKMmBxHltyD"
      }
    },
    {
      "cell_type": "code",
      "source": [
        "###Import modules\n",
        "from datetime import datetime\n",
        "import time\n",
        "from tqdm import tqdm\n",
        "import pandas as pd\n",
        "import networkx as nx\n",
        "\n",
        "###Using Github\n",
        "path_gh = r\"https://raw.githubusercontent.com/knabe-s/lobbytracker_v1/main/\"\n",
        "path_jp = r\"/content/\"\n",
        "\n",
        "###Constructing empty MultiDiGraph (-> multiple directed edges between nodes)\n",
        "G = nx.MultiDiGraph()\n",
        "G.graph['name'] = \"g_\" + str(datetime.now().strftime('%y%m%d-%H%M'))\n",
        "\n",
        "path_gh_graph = path_gh + G.graph['name'] + \"/\"\n",
        "\n",
        "###Adding graph-attributes for generating sequential u_ids\n",
        "G.graph['count_ids_orig'] = 0\n",
        "G.graph['count_ids_norm'] = 0\n",
        "G.graph['count_ids_edges'] = 0"
      ],
      "metadata": {
        "id": "A0L4rUcJOj3n"
      },
      "execution_count": null,
      "outputs": []
    },
    {
      "cell_type": "markdown",
      "source": [
        "### Befüllen & Updaten des Graphen"
      ],
      "metadata": {
        "id": "lVgJUqGKd7dP"
      }
    },
    {
      "cell_type": "markdown",
      "source": [
        "####Befüllen [1/2] - Normalformen"
      ],
      "metadata": {
        "id": "SsVG52sq1xEF"
      }
    },
    {
      "cell_type": "code",
      "source": [
        "###Loading norm-csv from nextcloud\n",
        "tmp_files_norm = [\"2022-09-20_norm.csv\"]\n",
        "\n",
        "###Adding information about update (date and files) to graph-attributes\n",
        "tmp_update_norm = \"files_norm\"\n",
        "G.graph[tmp_update_norm] = str(tmp_files_norm)\n",
        "\n",
        "for tmp_files_i in range(len(tmp_files_norm)):\n",
        "  nc.get_file(path_gh + tmp_files_norm[tmp_files_i])\n",
        "\n",
        "\n",
        "for tmp_x in range(len(tmp_files_norm)):\n",
        "\n",
        "  ####Importing data from csv\n",
        "  tmp_data_file = tmp_files_norm[tmp_x]\n",
        "  tmp_data_input = pd.read_csv(path_jp + tmp_files_norm[tmp_x])\n",
        "\n",
        "  tmp_new = False\n",
        "\n",
        "  for tmp_i in tqdm(range(len(tmp_data_input))):\n",
        "    ###Generating id for node[i]\n",
        "    if (\"g_\" in tmp_data_input.at[tmp_i, \"graph_id\"]) == False:\n",
        "      tmp_new = True\n",
        "      tmp_source = tmp_data_input.at[tmp_i, \"aufb_quelle\"]\n",
        "      tmp_date = tmp_data_input.at[tmp_i, \"aufb_datum\"]\n",
        "      tmp_ident = \"{:07d}\".format(int(G.graph['count_ids_norm']) + 1)\n",
        "      G.graph['count_ids_norm'] = tmp_ident\n",
        "\n",
        "      tmp_id = \"norm_\" + tmp_source + \"_\" + tmp_date + \"_#\" + str(tmp_ident)\n",
        "      tmp_data_input.at[tmp_i, \"graph_id\"] = tmp_id\n",
        "    else:\n",
        "      tmp_new = False\n",
        "      tmp_id = list(G.nodes())[tmp_i]\n",
        "\n",
        "    ###Constructing attributes for norm-node[i]; checking for each key if value changed\n",
        "    if tmp_new == False:\n",
        "      tmp_attr = dict(G.nodes[list(G.nodes())[tmp_i]])\n",
        "    if tmp_new == True:\n",
        "      tmp_attr = {}\n",
        "\n",
        "    tmp_attr['node_typ'] = \"norm\"\n",
        "    tmp_attr['node_typ_int'] = 1\n",
        "\n",
        "    if tmp_new == True:\n",
        "      tmp_attr['quelle'] = tmp_data_input.at[tmp_i, \"aufb_quelle\"]\n",
        "      tmp_attr['datum'] = tmp_data_input.at[tmp_i, \"aufb_datum\"]\n",
        "      tmp_attr['bezeichnung'] = tmp_data_input.at[tmp_i, \"aufb_bezeichnung\"]\n",
        "\n",
        "    if tmp_new == False: \n",
        "      if tmp_attr['quelle'] != tmp_data_input.at[tmp_i, \"aufb_quelle\"]:\n",
        "        tmp_attr['quelle'] = tmp_data_input.at[tmp_i, \"aufb_quelle\"]\n",
        "      if tmp_attr['datum'] != tmp_data_input.at[tmp_i, \"aufb_datum\"]:\n",
        "        tmp_attr['datum'] = tmp_data_input.at[tmp_i, \"aufb_datum\"]\n",
        "      if tmp_attr['bezeichnung'] != tmp_data_input.at[tmp_i, \"aufb_bezeichnung\"]:\n",
        "        tmp_attr['bezeichnung'] = tmp_data_input.at[tmp_i, \"aufb_bezeichnung\"]\n",
        "\n",
        "    ###Adding new norm-node[i] to graph; only if new\n",
        "    if tmp_new == True:\n",
        "      G.add_node(tmp_id, **tmp_attr)\n",
        "\n",
        "  ###Writing filename for new csv with suffix \"_nodes\"\n",
        "  tmp_filename_split = tmp_files_norm[tmp_x].split('.')\n",
        "  tmp_filename = G.graph['name'] + \"_\" + tmp_filename_split[0] + \"_nodes.csv\"\n",
        "\n",
        "  ###End of loop: modified tmp_data_input = tmp_data_output\n",
        "  tmp_data_output = tmp_data_input\n",
        "\n",
        "  ###Writing new csv & saving to nextcloud\n",
        "  for tmp_c in range(len(tmp_files_norm)):\n",
        "    tmp_data_output.to_csv(path_jp + tmp_filename)\n",
        "    nc.put_file(path_gh_graph + tmp_filename, path_jp + tmp_filename)\n",
        "\n",
        "### Resetting temporary variables\n",
        "%reset_selective -f tmp"
      ],
      "metadata": {
        "id": "wEUb-SSafJap",
        "colab": {
          "base_uri": "https://localhost:8080/"
        },
        "outputId": "29ea8196-f195-4e4c-e69e-3e20aad126e8"
      },
      "execution_count": null,
      "outputs": [
        {
          "output_type": "stream",
          "name": "stderr",
          "text": [
            "100%|██████████| 25388/25388 [00:01<00:00, 23102.98it/s]\n"
          ]
        }
      ]
    },
    {
      "cell_type": "markdown",
      "source": [
        "####Befüllen [2/2] - Originalformen"
      ],
      "metadata": {
        "id": "3hCjqHy8L17q"
      }
    },
    {
      "cell_type": "code",
      "source": [
        "###Loading orig-csv from nextcloud\n",
        "tmp_files_orig = [\"2022-09-20_orig_lobbyisten.csv\", \"2022-09-20_orig_mitgliedschaften.csv\", \"2022-09-20_orig_auftraggeber.csv\"]\n",
        "\n",
        "###Adding information about update (date and files) to graph-attributes\n",
        "tmp_update_orig = \"files_orig\"\n",
        "G.graph[tmp_update_orig] = str(tmp_files_orig)\n",
        "\n",
        "for tmp_files_i in range(len(tmp_files_orig)):\n",
        "  nc.get_file(path_gh + tmp_files_orig[tmp_files_i])\n",
        "\n",
        "for tmp_x in range(len(tmp_files_orig)):\n",
        "\n",
        "  ####Importing data from csv\n",
        "  tmp_data_file = tmp_files_orig[tmp_x]\n",
        "  tmp_data_input = pd.read_csv(path_jp + tmp_files_orig[tmp_x])\n",
        "\n",
        "  for tmp_i in tqdm(range(len(tmp_data_input))):\n",
        "    ###Constructing empty dictionary for node\n",
        "    tmp_attr = {}\n",
        "    tmp_attr['node_typ'] = \"orig\"\n",
        "    tmp_attr['node_typ_int'] = 0\n",
        "    \n",
        "    ###Generating id for node[i]\n",
        "    tmp_type = tmp_data_input.at[tmp_i, \"aufb_typ\"]\n",
        "\n",
        "    if tmp_type == \"lobbyregister_lobbyist\":\n",
        "      tmp_source = tmp_data_input.at[tmp_i, \"aufb_quelle\"]\n",
        "      tmp_last_mod = tmp_data_input.at[tmp_i, \"aufb_letzte_akt\"]\n",
        "      tmp_ident = tmp_data_input.at[tmp_i, \"aufb_quelle_id\"]\n",
        "\n",
        "    elif tmp_type == \"lobbyregister_membership\":\n",
        "      tmp_source = tmp_data_input.at[tmp_i, \"aufb_quelle\"]\n",
        "      tmp_last_mod = tmp_data_input.at[tmp_i, \"aufb_letzte_akt\"]\n",
        "      tmp_ident = \"{:07d}\".format(int(G.graph['count_ids_orig']) + 1)\n",
        "      G.graph['count_ids_orig'] = tmp_ident\n",
        "\n",
        "    elif tmp_type == \"lobbyregister_client\":\n",
        "      tmp_source = tmp_data_input.at[tmp_i, \"aufb_quelle\"]\n",
        "      tmp_last_mod = tmp_data_input.at[tmp_i, \"aufb_letzte_akt\"]\n",
        "      tmp_ident = \"{:07d}\".format(int(G.graph['count_ids_orig']) + 1)\n",
        "      G.graph['count_ids_orig'] = tmp_ident\n",
        "\n",
        "    tmp_id = \"orig_\" + tmp_source + \"_\" + tmp_last_mod + \"_#\" + str(tmp_ident)\n",
        "    tmp_data_input.at[tmp_i, \"graph_id\"] = tmp_id\n",
        "\n",
        "    ###Constructing attributes for orig-node[i]\n",
        "    if tmp_type == \"lobbyregister_lobbyist\":\n",
        "      tmp_attr['typ'] = tmp_type\n",
        "      tmp_attr['quelle'] = tmp_source\n",
        "      tmp_attr['letzte_akt'] = tmp_last_mod\n",
        "      tmp_attr['quelle_id'] = tmp_ident\n",
        "      tmp_attr['ersteintrag'] = tmp_data_input.at[tmp_i, \"aufb_ersteintrag\"]\n",
        "      tmp_attr['jahres_akt'] = tmp_data_input.at[tmp_i, \"aufb_jahres_akt\"]\n",
        "      tmp_attr['bezeichnung'] = tmp_data_input.at[tmp_i, \"aufb_bezeichnung\"]\n",
        "      tmp_attr['art_rechtsform'] = tmp_data_input.at[tmp_i, \"aufb_art_rechtsform\"]\n",
        "      tmp_attr['taetigkeitskategorie'] = tmp_data_input.at[tmp_i, \"aufb_taetigkeitskategorie\"]\n",
        "      tmp_attr['intver_finanz_aufw_jahr_von'] = tmp_data_input.at[tmp_i, \"aufb_intver_finanz_aufw_jahr_von\"]\n",
        "      tmp_attr['intver_finanz_aufw_jahr_bis'] = tmp_data_input.at[tmp_i, \"aufb_intver_finanz_aufw_jahr_bis\"]\n",
        "      tmp_attr['intver_jahr_start'] = tmp_data_input.at[tmp_i, \"aufb_intver_jahr_start\"]\n",
        "      tmp_attr['intver_jahr_ende'] = tmp_data_input.at[tmp_i, \"aufb_intver_jahr_ende\"]\n",
        "      tmp_attr['intver_anzahl_besch_min'] = tmp_data_input.at[tmp_i, \"aufb_intver_anzahl_besch_min\"]\n",
        "      tmp_attr['intver_anzahl_besch_max'] = tmp_data_input.at[tmp_i, \"aufb_intver_anzahl_besch_max\"]\n",
        "      tmp_attr['mitglieder_anzahl_wert'] = tmp_data_input.at[tmp_i, \"aufb_mitglieder_anzahl_wert\"]\n",
        "      tmp_attr['mitglieder_zaehlung_datum'] = tmp_data_input.at[tmp_i, \"aufb_mitglieder_zaehlung_datum\"]\n",
        "\n",
        "      \n",
        "      if pd.isnull(tmp_data_input.at[tmp_i, \"aufb_intver_liste_beschaeftigte_unmittelbar\"]) == False:\n",
        "        tmp_attr['intver_liste_beschaeftigte_unmittelbar'] = str(tmp_data_input.at[tmp_i, \"aufb_intver_liste_beschaeftigte_unmittelbar\"])\n",
        "        tmp_list = tmp_data_input.at[tmp_i, \"aufb_intver_liste_beschaeftigte_unmittelbar\"].split(',')\n",
        "        tmp_attr['intver_personen_unmittelbar_anzahl'] = len(tmp_list)\n",
        "        tmp_data_input.at[tmp_i, 'graph_intver_anzahl_beschaeftigte_unmittelbar']\n",
        "      else:\n",
        "        tmp_attr['intver_personen_unmittelbar_anzahl'] = float(\"NaN\")\n",
        "        tmp_data_input.at[tmp_i, 'graph_intver_anzahl_beschaeftigte_unmittelbar']\n",
        "\n",
        "      if pd.isnull(tmp_data_input.at[tmp_i, \"aufb_mitgliedschaften_liste\"]) == False:\n",
        "        tmp_attr['mitgliedschaften_liste'] = str(tmp_data_input.at[tmp_i, \"aufb_mitgliedschaften_liste\"])\n",
        "        tmp_list = tmp_data_input.at[tmp_i, \"aufb_mitgliedschaften_liste\"].split(',')\n",
        "        tmp_attr['mitgliedschaften_anzahl'] = len(tmp_list)\n",
        "        tmp_data_input.at[tmp_i, \"graph_mitgliedschaften_anzahl\"] = tmp_attr['mitgliedschaften_anzahl']\n",
        "      else:\n",
        "        tmp_attr['mitgliedschaften_anzahl'] = float(\"NaN\")\n",
        "        tmp_data_input.at[tmp_i, \"graph_mitgliedschaften_anzahl\"] = tmp_attr['mitgliedschaften_anzahl']\n",
        "\n",
        "      if pd.isnull(tmp_data_input.at[tmp_i, \"aufb_auftraggeber_liste\"]) == False:\n",
        "        tmp_attr['auftraggeber_liste'] = str(tmp_data_input.at[tmp_i, \"aufb_auftraggeber_liste\"])\n",
        "        tmp_list = tmp_data_input.at[tmp_i, \"aufb_auftraggeber_liste\"].split(',')\n",
        "        tmp_attr['auftraggeber_anzahl'] = len(tmp_list)\n",
        "        tmp_data_input.at[tmp_i, \"graph_auftraggeber_anzahl\"] = tmp_attr['auftraggeber_anzahl']\n",
        "      else:\n",
        "        tmp_attr['auftraggeber_anzahl'] = float(\"NaN\")\n",
        "        tmp_data_input.at[tmp_i, \"graph_auftraggeber_anzahl\"] = tmp_attr['auftraggeber_anzahl']\n",
        "\n",
        "    elif tmp_type == \"lobbyregister_membership\":\n",
        "      tmp_attr['typ'] = tmp_type\n",
        "      tmp_attr['quelle'] = tmp_source\n",
        "      tmp_attr['letzte_akt'] = tmp_last_mod\n",
        "      tmp_attr['id'] = tmp_ident\n",
        "      tmp_attr['bezeichnung'] = tmp_data_input.at[tmp_i, \"aufb_bezeichnung\"]\n",
        "\n",
        "    elif tmp_type == \"lobbyregister_client\":\n",
        "      tmp_attr['typ'] = tmp_type\n",
        "      tmp_attr['quelle'] = tmp_source\n",
        "      tmp_attr['letzte_akt'] = tmp_last_mod\n",
        "      tmp_attr['id'] = tmp_ident\n",
        "      tmp_attr['bezeichnung'] = tmp_data_input.at[tmp_i, \"aufb_bezeichnung\"]\n",
        "  \n",
        "    ###Adding new node[i] to graph\n",
        "    G.add_node(tmp_id, **tmp_attr)\n",
        "\n",
        "  ###Writing filename for new csv with suffix \"_nodes\"\n",
        "  tmp_filename_split = tmp_files_orig[tmp_x].split('.')\n",
        "  tmp_filename = G.graph['name'] + \"_\" + tmp_filename_split[0] + \"_nodes.csv\"\n",
        "\n",
        "  ###End of loop: modified tmp_data_input = tmp_data_output\n",
        "  tmp_data_output = tmp_data_input\n",
        "\n",
        "  ###Writing new csv & saving to nextcloud\n",
        "  for tmp_c in range(len(tmp_files_orig)):\n",
        "    tmp_data_output.to_csv(path_jp + tmp_filename)\n",
        "    nc.put_file(path_gh_graph + tmp_filename, path_jp + tmp_filename)\n",
        "\n",
        "### Resetting temporary variables\n",
        "%reset_selective -f tmp"
      ],
      "metadata": {
        "id": "kuvG7iNJUleq",
        "colab": {
          "base_uri": "https://localhost:8080/"
        },
        "outputId": "e05ac9da-a186-4ff4-b038-18ba72be7028"
      },
      "execution_count": null,
      "outputs": [
        {
          "output_type": "stream",
          "name": "stderr",
          "text": [
            "100%|██████████| 5196/5196 [00:00<00:00, 6698.81it/s]\n",
            "100%|██████████| 14185/14185 [00:00<00:00, 27898.33it/s]\n",
            "100%|██████████| 1463/1463 [00:00<00:00, 28405.75it/s]\n"
          ]
        }
      ]
    },
    {
      "cell_type": "markdown",
      "source": [
        "###Generieren der Kanten"
      ],
      "metadata": {
        "id": "aN-8x8oYexP8"
      }
    },
    {
      "cell_type": "code",
      "source": [
        "###Import of modified orig_nodes.csvs (added norm-ids)\n",
        "tmp_files_orig = G.graph['files_orig'].replace(\"[\", \"\")\n",
        "tmp_files_orig = tmp_files_orig.replace(\"]\", \"\")\n",
        "tmp_files_orig = tmp_files_orig.replace(\"'\", \"\")\n",
        "tmp_files_orig = tmp_files_orig.split(\", \")\n",
        "tmp_filepath = []\n",
        "\n",
        "for tmp_files_i in range(len(tmp_files_orig)):\n",
        "  tmp_list = tmp_files_orig[tmp_files_i].split(\".\")\n",
        "  tmp_filepath.append(G.graph['name'] + \"_\" + tmp_list[0] + \"_nodes_nf.csv\")\n",
        "  nc.get_file(path_gh_graph + tmp_filepath[tmp_files_i])\n",
        "\n",
        "for tmp_x in range(len(tmp_files_orig)):\n",
        "  ####Importing data from csv & adding \n",
        "  if \"orig_lobbyisten\" in tmp_filepath[tmp_x]:\n",
        "    tmp_data_file_orig_lobbyists = path_jp + tmp_filepath[tmp_x]\n",
        "    tmp_data_input = pd.read_csv(tmp_data_file_orig_lobbyists)\n",
        "    for tmp_c in tqdm(range(len(tmp_data_input)), desc=\"Lobbyist: Norm -> Orig\"):\n",
        "      tmp_edges_source = tmp_data_input.at[tmp_c, 'aufb_normalform_id']\n",
        "      tmp_edges_target = tmp_data_input.at[tmp_c, 'graph_id']\n",
        "      tmp_edges_attr = {\"edge_typ\": \"ist die Normalform von\"}\n",
        "      G.add_edge(tmp_edges_source, tmp_edges_target, **tmp_edges_attr)\n",
        "\n",
        "  if \"orig_mitgliedschaften\" in tmp_filepath[tmp_x]:\n",
        "    tmp_data_file_orig_memberships = path_jp + tmp_filepath[tmp_x]\n",
        "    tmp_data_input = pd.read_csv(tmp_data_file_orig_memberships)\n",
        "    for tmp_c in tqdm(range(len(tmp_data_input)), desc=\"Mitgliedschaften: Norm -> Orig\"):\n",
        "      tmp_edges_source = tmp_data_input.at[tmp_c, 'aufb_normalform_id']\n",
        "      tmp_edges_target = tmp_data_input.at[tmp_c, 'graph_id']\n",
        "      tmp_edges_attr = {\"edge_typ\": \"ist die Normalform von\"}\n",
        "      G.add_edge(tmp_edges_source, tmp_edges_target, **tmp_edges_attr)\n",
        "\n",
        "  if \"orig_auftraggeber\" in tmp_filepath[tmp_x]:\n",
        "    tmp_data_file_orig_clients = path_jp + tmp_filepath[tmp_x]\n",
        "    tmp_data_input = pd.read_csv(tmp_data_file_orig_clients)\n",
        "    for tmp_c in tqdm(range(len(tmp_data_input)), desc=\"Auftraggeber: Norm -> Orig\"):\n",
        "      tmp_edges_source = tmp_data_input.at[tmp_c, 'aufb_normalform_id']\n",
        "      tmp_edges_target = tmp_data_input.at[tmp_c, 'graph_id']\n",
        "      tmp_edges_attr = {\"edge_typ\": \"ist die Normalform von\"}\n",
        "      G.add_edge(tmp_edges_source, tmp_edges_target, **tmp_edges_attr) \n",
        "\n",
        "###Edges orig_client_id -> orig_lobbyist_id\n",
        "tmp_data_input_clients = pd.read_csv(tmp_data_file_orig_clients)\n",
        "tmp_data_input_lobbyists = pd.read_csv(tmp_data_file_orig_lobbyists)\n",
        "\n",
        "for tmp_i in tqdm(range(len(tmp_data_input_clients)), desc=\"Client -> Lobbyist\"):\n",
        "  tmp_client = {\"client_id\": tmp_data_input_clients.at[tmp_i, \"graph_id\"], \"client_bez\": tmp_data_input_clients.at[tmp_i, \"aufb_bezeichnung\"]}\n",
        "  for tmp_c in range(len(tmp_data_input_lobbyists)):\n",
        "    tmp_lobbyist = {\"lobbyist_id\": tmp_data_input_lobbyists.at[tmp_c, \"graph_id\"], \"lobbyist_auftraggeber_liste\": tmp_data_input_lobbyists.at[tmp_c, \"aufb_auftraggeber_liste\"]}\n",
        "    if tmp_client[\"client_bez\"] in str(tmp_lobbyist[\"lobbyist_auftraggeber_liste\"]):\n",
        "      tmp_edges_source = tmp_client[\"client_id\"]\n",
        "      tmp_edges_target = tmp_lobbyist[\"lobbyist_id\"]\n",
        "      tmp_edges_attr = {\"edge_typ\": \"ist ein Auftraggeber von\"}\n",
        "      G.add_edge(tmp_edges_source, tmp_edges_target, **tmp_edges_attr)\n",
        "  \n",
        "###Edges orig_membership_id -> orig_lobbyist_id\n",
        "tmp_data_input_memberships = pd.read_csv(tmp_data_file_orig_memberships)\n",
        "tmp_data_input_lobbyists = pd.read_csv(tmp_data_file_orig_lobbyists)\n",
        "\n",
        "for tmp_i in tqdm(range(len(tmp_data_input_memberships)), desc=\"Lobbyist -> Membership\"):\n",
        "  tmp_member = {\"member_id\": tmp_data_input_memberships.at[tmp_i, \"graph_id\"], \"member_bez\": tmp_data_input_memberships.at[tmp_i, \"aufb_bezeichnung\"]}\n",
        "  for tmp_c in range(len(tmp_data_input_lobbyists)):\n",
        "    tmp_lobbyist = {\"lobbyist_id\": tmp_data_input_lobbyists.at[tmp_c, \"graph_id\"], \"lobbyist_mitgliedschaften_liste\": tmp_data_input_lobbyists.at[tmp_c, \"aufb_mitgliedschaften_liste\"]}\n",
        "    if tmp_member[\"member_bez\"] in str(tmp_lobbyist[\"lobbyist_mitgliedschaften_liste\"]):\n",
        "      tmp_edges_source = tmp_lobbyist[\"lobbyist_id\"]\n",
        "      tmp_edges_target = tmp_member[\"member_id\"]\n",
        "      tmp_edges_attr = {\"edge_typ\": \"ist ein Mitglied in\"}\n",
        "      G.add_edge(tmp_edges_source, tmp_edges_target, **tmp_edges_attr)\n",
        "\n",
        "\n",
        "### Resetting temporary variables\n",
        "%reset_selective -f tmp"
      ],
      "metadata": {
        "id": "ijY3y_pdYsz_",
        "colab": {
          "base_uri": "https://localhost:8080/"
        },
        "outputId": "6f4da928-97e6-402b-a771-6c7c48689d44"
      },
      "execution_count": null,
      "outputs": [
        {
          "output_type": "stream",
          "name": "stderr",
          "text": [
            "Lobbyist: Norm -> Orig: 100%|██████████| 5196/5196 [00:00<00:00, 61889.38it/s]\n",
            "Mitgliedschaften: Norm -> Orig: 100%|██████████| 14185/14185 [00:00<00:00, 65627.23it/s]\n",
            "Auftraggeber: Norm -> Orig: 100%|██████████| 1463/1463 [00:00<00:00, 10972.43it/s]\n",
            "Client -> Lobbyist: 100%|██████████| 1463/1463 [01:13<00:00, 20.03it/s]\n",
            "Lobbyist -> Membership: 100%|██████████| 14185/14185 [11:47<00:00, 20.06it/s]\n"
          ]
        }
      ]
    },
    {
      "cell_type": "markdown",
      "source": [
        "#### Zusammenfassung des Graphen"
      ],
      "metadata": {
        "id": "xcBLWtXW1bpk"
      }
    },
    {
      "cell_type": "code",
      "source": [
        "print(\"Graph: \" + G.graph['name'])\n",
        "print(\"Importierte Normalformen: \" + G.graph['files_norm'])\n",
        "print(\"Importierte Originalformen: \" + G.graph['files_orig'])\n",
        "print(\"-------------\")\n",
        "\n",
        "###Number of nodes:\n",
        "tmp_nodes = list(G)\n",
        "tmp_count_nodes_all = len(tmp_nodes)\n",
        "\n",
        "####Count norm-nodes\n",
        "tmp_count_nodes_norm, tmp_count_nodes_orig = 0, 0\n",
        "for tmp_i in range(len(tmp_nodes)):\n",
        "  if str(tmp_nodes[tmp_i]).startswith(\"norm\") == True:\n",
        "    tmp_count_nodes_norm = tmp_count_nodes_norm + 1\n",
        "  elif str(tmp_nodes[tmp_i]).startswith(\"orig\") == True:\n",
        "    tmp_count_nodes_orig = tmp_count_nodes_orig + 1\n",
        "\n",
        "tmp_out_count_node = \"Knoten: \" + str(tmp_count_nodes_all)\n",
        "tmp_out_count_nodes_norm = \"Normalformen (\" + str(tmp_count_nodes_norm) + \")\"\n",
        "tmp_out_count_nodes_orig = \"Originalformen (\" + str(tmp_count_nodes_orig) + \")\"\n",
        "\n",
        "print(tmp_out_count_node + \" - \" + tmp_out_count_nodes_norm + \" & \" + tmp_out_count_nodes_orig)\n",
        "\n",
        "###Number of edges\n",
        "tmp_edges = G.edges()\n",
        "tmp_count_edges = len(tmp_edges)\n",
        "\n",
        "edgelist = nx.to_pandas_edgelist(G)\n",
        "edgelist.to_csv(path_jp + G.graph['name'] + \"_edgelist.csv\")\n",
        "nc.put_file(path_gh_graph + G.graph['name'] + \"_edgelist.csv\", path_jp + G.graph['name'] + \"_edgelist.csv\")\n",
        "\n",
        "edges_values = edgelist['edge_typ'].value_counts()\n",
        "edges_values_dict = edges_values.to_dict()\n",
        "print(\"Kanten: \" + str(tmp_count_edges) + \" - 'Normalform von' (\" + str(edges_values_dict[\"ist die Normalform von\"]) + \"), 'Auftraggeber von' (\" + str(edges_values_dict[\"ist ein Auftraggeber von\"]) + \") & 'Mitglied in' (\" + str(edges_values_dict[\"ist ein Mitglied in\"]) + \")\")\n",
        "\n",
        "###Saving graph as graphml\n",
        "nx.write_graphml(G, path_jp + G.graph['name'] + '.graphml', encoding='utf-8')\n",
        "out_graphml = G.graph['name'] + '.graphml'\n",
        "nc.put_file(path_gh_graph + out_graphml, path_jp + out_graphml)\n",
        "\n",
        "### Resetting temporary variables\n",
        "%reset_selective -f tmp"
      ],
      "metadata": {
        "id": "uNLmKx1KH147",
        "colab": {
          "base_uri": "https://localhost:8080/"
        },
        "outputId": "a9a8ce7f-54a7-40ab-ddce-18a0af3d0fcc"
      },
      "execution_count": null,
      "outputs": [
        {
          "output_type": "stream",
          "name": "stdout",
          "text": [
            "Graph: g_220926-1507\n",
            "Importierte Normalformen: ['2022-09-20_norm.csv']\n",
            "Importierte Originalformen: ['2022-09-20_orig_lobbyisten.csv', '2022-09-20_orig_mitgliedschaften.csv', '2022-09-20_orig_auftraggeber.csv']\n",
            "-------------\n",
            "Knoten: 46232 - Normalformen (25388) & Originalformen (20844)\n",
            "Kanten: 77587 - 'Normalform von' (20844), 'Auftraggeber von' (1897) & 'Mitglied in' (54846)\n"
          ]
        }
      ]
    },
    {
      "cell_type": "markdown",
      "source": [
        "##Abfrage der Daten\n",
        "https://excalidraw.com/#json=iFW3e9fUdNQD2kXGG7NBK,TUYv3UKMh3yh6ytebnODMg"
      ],
      "metadata": {
        "id": "OHl5XpUIuUl_"
      }
    },
    {
      "cell_type": "markdown",
      "source": [
        "###Resetting Script"
      ],
      "metadata": {
        "id": "jmb01G_Wlmk-"
      }
    },
    {
      "cell_type": "code",
      "source": [
        "###Removing all files in jupyter-notebook/content/\n",
        "!rm -r *"
      ],
      "metadata": {
        "id": "icoG6V-9HIVf"
      },
      "execution_count": null,
      "outputs": []
    },
    {
      "cell_type": "code",
      "source": [
        "###Resetting variables\n",
        "%reset\n",
        "#%reset_selective G"
      ],
      "metadata": {
        "colab": {
          "base_uri": "https://localhost:8080/"
        },
        "id": "-uCZxUU1le9D",
        "outputId": "3a5860fb-8a54-4d8a-8256-af46613b5807"
      },
      "execution_count": null,
      "outputs": [
        {
          "name": "stdout",
          "output_type": "stream",
          "text": [
            "Once deleted, variables cannot be recovered. Proceed (y/[n])? y\n"
          ]
        }
      ]
    }
  ]
}