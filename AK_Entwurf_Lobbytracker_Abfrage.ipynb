{
  "nbformat": 4,
  "nbformat_minor": 0,
  "metadata": {
    "colab": {
      "provenance": [],
      "collapsed_sections": [
        "GEiJo9oHhWQE"
      ],
      "include_colab_link": true
    },
    "kernelspec": {
      "name": "python3",
      "display_name": "Python 3"
    },
    "language_info": {
      "name": "python"
    }
  },
  "cells": [
    {
      "cell_type": "markdown",
      "metadata": {
        "id": "view-in-github",
        "colab_type": "text"
      },
      "source": [
        "<a href=\"https://colab.research.google.com/github/knabe-s/lobbytracker_v1_1/blob/main/AK_Entwurf_Lobbytracker_Abfrage.ipynb\" target=\"_parent\"><img src=\"https://colab.research.google.com/assets/colab-badge.svg\" alt=\"Open In Colab\"/></a>"
      ]
    },
    {
      "cell_type": "markdown",
      "source": [
        "# Lobbytracker: Abfrage\n",
        "[Dokumentation](https://github.com/knabe-s/lobbytracker_v1/wiki/Dokumentation---Abfrage)"
      ],
      "metadata": {
        "id": "KXnXn40zNSjZ"
      }
    },
    {
      "cell_type": "code",
      "source": [
        "query = input(\"Nach welcher Organisation/Entität soll die Datenbank durchsucht werden? \")"
      ],
      "metadata": {
        "colab": {
          "base_uri": "https://localhost:8080/"
        },
        "id": "GHhJTaFywn5Z",
        "outputId": "db0bf42f-dbf5-4b7b-e6fe-492373e2f520"
      },
      "execution_count": 14,
      "outputs": [
        {
          "name": "stdout",
          "output_type": "stream",
          "text": [
            "Nach welcher Organisation/Entität soll die Datenbank durchsucht werden? SPD\n"
          ]
        }
      ]
    },
    {
      "cell_type": "markdown",
      "source": [
        "## Phase 1 - Import des Graphen & Generieren der Node-Listen"
      ],
      "metadata": {
        "id": "GEiJo9oHhWQE"
      }
    },
    {
      "cell_type": "code",
      "source": [
        "from urllib import request\n",
        "from tqdm import tqdm\n",
        "import numpy as np\n",
        "import pandas as pd\n",
        "import networkx as nx\n",
        "from datetime import datetime\n",
        "import time\n",
        "import pprint\n",
        "\n",
        "pp = pprint.PrettyPrinter(indent=4)\n",
        "#pp = pprint.PrettyPrinter(indent=4, sort_dicts=False) #Needs at least Python Version 3.8\n",
        "hr = \"-----\"\n",
        "\n",
        "###Using Github\n",
        "path_jp = r\"/content/\"\n",
        "file_graph_url = r'https://raw.githubusercontent.com/knabe-s/lobbytracker_v1_1/main/data/graph/graph.graphml.gz'\n",
        "\n",
        "request.urlretrieve(file_graph_url, r'/content/graph.graphml.gz')\n",
        "\n",
        "F = nx.read_graphml(r'/content/graph.graphml.gz')\n",
        "\n",
        "###Getting list of all node-ids\n",
        "graph_nodes = list(F.nodes())\n",
        "\n",
        "###Generating dicts for norm- and orig-nodes\n",
        "norm_nodes = pd.DataFrame(columns=[\"node_id\", \"bezeichnung\"])\n",
        "orig_nodes = pd.DataFrame(columns=[\"node_id\", \"bezeichnung\"])\n",
        "\n",
        "for i in tqdm(range(len(graph_nodes))):\n",
        "  if \"norm\" in graph_nodes[i]:\n",
        "   norm_nodes.at[i, \"node_id\"] = graph_nodes[i]\n",
        "   norm_nodes.at[i, \"bezeichnung\"] = F.nodes[graph_nodes[i]][\"bezeichnung\"]\n",
        "  if \"orig\" in graph_nodes[i]:\n",
        "   orig_nodes.at[i, \"node_id\"] = graph_nodes[i]\n",
        "   orig_nodes.at[i, \"bezeichnung\"] = F.nodes[graph_nodes[i]][\"bezeichnung\"]"
      ],
      "metadata": {
        "id": "IOeSCPxLM8Xv",
        "colab": {
          "base_uri": "https://localhost:8080/"
        },
        "outputId": "3464e0bb-7573-49be-b515-aac1534e65ca"
      },
      "execution_count": 15,
      "outputs": [
        {
          "output_type": "stream",
          "name": "stderr",
          "text": [
            "100%|██████████| 46232/46232 [02:01<00:00, 379.48it/s]\n"
          ]
        }
      ]
    },
    {
      "cell_type": "markdown",
      "source": [
        "## Phase 2 & 3 - Abfrage & Ausgabe (Treffer)"
      ],
      "metadata": {
        "id": "aoizuecvFjTE"
      }
    },
    {
      "cell_type": "code",
      "source": [
        "first_order_orig_ids = [] #Needed in Phase 6 for generating subgraph\n",
        "first_order_norm_ids = [] #Needed in Phase 6 for generating subgraph\n",
        "\n",
        "matches_norm = []\n",
        "matches_norm_bez = []\n",
        "matches_orig = []\n",
        "matches_orig_bez = []\n",
        "\n",
        "for i in range(len(norm_nodes)):\n",
        "  if query in norm_nodes.iat[i, 1]:\n",
        "    matches_norm.append(norm_nodes.iat[i, 0])\n",
        "    F.nodes[norm_nodes.iat[i, 0]]['node_typ'] = \"query_norm\"\n",
        "    F.nodes[norm_nodes.iat[i, 0]]['node_typ_int'] = 3\n",
        "    matches_norm_bez.append(norm_nodes.iat[i, 1])\n",
        "    first_order_norm_ids.append(norm_nodes.iat[i, 0])\n",
        "\n",
        "for i in range(len(orig_nodes)):\n",
        "  if query in orig_nodes.iat[i, 1]:\n",
        "    matches_orig.append(orig_nodes.iat[i, 0])\n",
        "    F.nodes[norm_nodes.iat[i, 0]]['node_typ'] = \"query_orig\"\n",
        "    F.nodes[norm_nodes.iat[i, 0]]['node_typ_int'] = 2\n",
        "    matches_orig_bez.append(orig_nodes.iat[i, 1])\n",
        "    first_order_orig_ids.append(orig_nodes.iat[i, 0])\n",
        "\n",
        "###Output: matches\n",
        "print(\"Abfrage: '\" + query + \"'\")\n",
        "print(hr)\n",
        "print(\"Treffer in Normalformen: \" + str(len(matches_norm)))\n",
        "pp.pprint(matches_norm_bez)\n",
        "print(hr)\n",
        "print(\"Treffer in Originalformen: \" + str(len(matches_orig)))\n",
        "pp.pprint(matches_orig_bez)\n",
        "\n",
        "\n",
        "matches_norm_edges = []\n",
        "for i in range(len(matches_norm)):\n",
        "  matches_norm_edges.append(list(F.edges(matches_norm[i])))\n",
        "\n",
        "for i in range(len(matches_norm_edges)):\n",
        "  #print(\"matches_norm_edges[i]: \" + str(matches_norm_edges[i]))\n",
        "  edge_pair = matches_norm_edges[i]\n",
        "  for c in range(len(edge_pair)):\n",
        "    edge_pair_tmp = edge_pair[c]\n",
        "    #print(edge_pair_tmp)\n",
        "    first_order_orig_ids.append(edge_pair_tmp[1])\n",
        "\n",
        "###Removing duplicate orig-node-ids\n",
        "first_order_orig_ids = list(set(first_order_orig_ids))"
      ],
      "metadata": {
        "colab": {
          "base_uri": "https://localhost:8080/"
        },
        "id": "H-0wcJqEF1YF",
        "outputId": "a262b906-ade7-4d63-9fc1-eaa56ebffb72"
      },
      "execution_count": 16,
      "outputs": [
        {
          "output_type": "stream",
          "name": "stdout",
          "text": [
            "Abfrage: 'SPD'\n",
            "-----\n",
            "Treffer in Normalformen: 19\n",
            "[   'Bitkom e. V.; Grüner Wirtschaftsdialog e. V.; Wirtschaftsforum der SPD e. '\n",
            "    'V.',\n",
            "    'Denkfabrik in der SPD-Bundestagsfraktion',\n",
            "    'European Association of Service Providers for Persons with Disability '\n",
            "    '(EASPD)',\n",
            "    'SPD-Landtagsfraktion',\n",
            "    'SPD-Saarland',\n",
            "    'SPD Wirtschaftsforum',\n",
            "    'SPD-Wirtschaftsforum',\n",
            "    'SPD Wirtschaftsforum e.V.',\n",
            "    'SPD Wirtschaftsforum e. V.',\n",
            "    'SPD-Wirtschaftsforum e.V.',\n",
            "    'Wirtschaftforum der SPD e.V.',\n",
            "    'Wirtschaftsforum der SPD',\n",
            "    'Wirtschaftsforum der SPD Deutschland e.V.',\n",
            "    'Wirtschaftsforum der SPD e.V.',\n",
            "    'Wirtschaftsforum der SPD e. V.',\n",
            "    'Wirtschafts Forum der SPD e.V.',\n",
            "    'Wirtschaftsforum der SPD e.V. (pers. Mitgliedschaft)',\n",
            "    'Wirtschaftsforum SPD',\n",
            "    'Wirtschaftsfourm der SPD']\n",
            "-----\n",
            "Treffer in Originalformen: 20\n",
            "[   'Denkfabrik in der SPD-Bundestagsfraktion',\n",
            "    'Wirtschaftsforum der SPD e.V.',\n",
            "    'Bitkom e. V.; Grüner Wirtschaftsdialog e. V.; Wirtschaftsforum der SPD e. '\n",
            "    'V.',\n",
            "    'European Association of Service Providers for Persons with Disability '\n",
            "    '(EASPD)',\n",
            "    'SPD Wirtschaftsforum',\n",
            "    'SPD-Wirtschaftsforum',\n",
            "    'SPD Wirtschaftsforum e.V.',\n",
            "    'SPD Wirtschaftsforum e. V.',\n",
            "    'SPD-Wirtschaftsforum e.V.',\n",
            "    'Wirtschaftforum der SPD e.V.',\n",
            "    'Wirtschaftsforum der SPD',\n",
            "    'Wirtschaftsforum der SPD Deutschland e.V.',\n",
            "    'Wirtschaftsforum der SPD e.V',\n",
            "    'Wirtschaftsforum der SPD e.V:',\n",
            "    'Wirtschaftsforum der SPD e.V.',\n",
            "    'Wirtschaftsforum der SPD e. V.',\n",
            "    'Wirtschafts Forum der SPD e.V.',\n",
            "    'Wirtschaftsforum der SPD e.V. (pers. Mitgliedschaft)',\n",
            "    'Wirtschaftsforum SPD',\n",
            "    'Wirtschaftsfourm der SPD']\n"
          ]
        }
      ]
    },
    {
      "cell_type": "markdown",
      "source": [
        "## Phase 4 - Ausgabe (Inhalte der direkten Treffer - 1ter Ordnung)"
      ],
      "metadata": {
        "id": "NuU_Kg4UF1Ju"
      }
    },
    {
      "cell_type": "code",
      "source": [
        "###Generating subgraph for all direct matches\n",
        "F_first_order = F.subgraph(first_order_orig_ids)\n",
        "\n",
        "#dict_order_1 = {}\n",
        "\n",
        "###Printing all attributes of all direct matches\n",
        "#for n in F_first_order.nodes():\n",
        "#  first_order_output = F_first_order.nodes[n]\n",
        "#  dict_order_1[n] = first_order_output\n",
        "#  #pp.pprint(first_order_output)\n",
        "#  #tmp_DF = pd.DataFrame.from_dict([first_order_output])\n",
        "\n",
        "#df_order_1 = pd.DataFrame.from_dict([dict_order_1])\n",
        "#print(df_order_1)\n",
        "#df_order_1.to_csv(r'/content/df_order_1.csv')\n",
        "\n",
        "graph = F_first_order\n",
        "df = pd.DataFrame.from_dict(dict(graph.nodes(data=True)),orient='index')\n",
        "df\n",
        "df.to_csv(r'/content/df_neu.csv')"
      ],
      "metadata": {
        "id": "c6mhpubXHmtH"
      },
      "execution_count": 18,
      "outputs": []
    },
    {
      "cell_type": "markdown",
      "source": [
        "## Phase 5 - Ausgabe (Inhalte der indirekten Treffer - 2ter Ordnung)"
      ],
      "metadata": {
        "id": "3fnfcdTvHml7"
      }
    },
    {
      "cell_type": "code",
      "source": [
        "edgelist_graph = list(F.edges.data(\"edge_typ\"))\n",
        "\n",
        "second_order_orig_ids = []\n",
        "second_order_norm_ids = []\n",
        "\n",
        "indirect_client_source = []\n",
        "indirect_client_source_norm = []\n",
        "indirect_client_target = []\n",
        "indirect_client_target_norm = []\n",
        "indirect_memberships_source = []\n",
        "indirect_memberships_source_norm = []\n",
        "indirect_memberships_target = []\n",
        "indirect_memberships_target_norm = []\n",
        "clients_of = []\n",
        "client = []\n",
        "member_in = []\n",
        "memberships = []\n",
        "\n",
        "\n",
        "for i in range(len(first_order_orig_ids)):\n",
        "  for (u, v, t) in F.edges.data(\"edge_typ\"):\n",
        "    if \"Auftraggeber\" in F.edges[u, v][\"edge_typ\"]:\n",
        "      if first_order_orig_ids[i] == u:\n",
        "        indirect_client_source.append(v)\n",
        "      if first_order_orig_ids[i] == v:\n",
        "        indirect_client_target.append(u)\n",
        "        \n",
        "    if \"Mitglied\" in F.edges[u, v][\"edge_typ\"]:\n",
        "      if first_order_orig_ids[i] == u:\n",
        "        indirect_memberships_source.append(v)\n",
        "      if first_order_orig_ids[i] == v:\n",
        "        indirect_memberships_target.append(u)\n",
        "\n",
        "\n",
        "for i in range(len(indirect_client_source)):\n",
        "  clients_of.append(orig_nodes.loc[orig_nodes['node_id'] == indirect_client_source[i]])\n",
        "  second_order_orig_ids.append(indirect_client_source[i])\n",
        "for i in range(len(indirect_client_target)):\n",
        "  client.append(orig_nodes.loc[orig_nodes['node_id'] == indirect_client_target[i]])\n",
        "  second_order_orig_ids.append(indirect_client_target[i])\n",
        "for i in range(len(indirect_memberships_source)):\n",
        "  member_in.append(orig_nodes.loc[orig_nodes['node_id'] == indirect_memberships_source[i]])\n",
        "  second_order_orig_ids.append(indirect_memberships_source[i])\n",
        "for i in range(len(indirect_memberships_target)):\n",
        "  memberships.append(orig_nodes.loc[orig_nodes['node_id'] == indirect_memberships_target[i]])\n",
        "  second_order_orig_ids.append(indirect_memberships_target[i])\n",
        "\n",
        "\n",
        "for (u, v, t) in F.edges.data(\"edge_typ\"):\n",
        "  if \"Normalform\" in F.edges[u, v][\"edge_typ\"]:\n",
        "\n",
        "    for i in range(len(indirect_client_source)):\n",
        "      if v == indirect_client_source[i]:\n",
        "        df = norm_nodes.loc[norm_nodes[\"node_id\"] == u]\n",
        "        second_order_norm_ids.append(u)\n",
        "        nda = df[\"bezeichnung\"].unique()\n",
        "        norm_bez = np.array2string(nda)\n",
        "        indirect_client_source_norm.append(norm_bez)\n",
        "\n",
        "    for i in range(len(indirect_client_target)):\n",
        "      if v == indirect_client_target[i]:\n",
        "        df = norm_nodes.loc[norm_nodes[\"node_id\"] == u]\n",
        "        second_order_norm_ids.append(u)\n",
        "        nda = df[\"bezeichnung\"].unique()\n",
        "        norm_bez = np.array2string(nda)\n",
        "        indirect_client_target_norm.append(norm_bez)\n",
        "\n",
        "    for i in range(len(indirect_memberships_source)):\n",
        "      if v == indirect_memberships_source[i]:\n",
        "        df = norm_nodes.loc[norm_nodes[\"node_id\"] == u]\n",
        "        second_order_norm_ids.append(u)\n",
        "        nda = df[\"bezeichnung\"].unique()\n",
        "        norm_bez = np.array2string(nda)\n",
        "        indirect_memberships_source_norm.append(norm_bez)\n",
        "\n",
        "    for i in range(len(indirect_memberships_target)):\n",
        "      if v == indirect_memberships_target[i]:\n",
        "        df = norm_nodes.loc[norm_nodes[\"node_id\"] == u]\n",
        "        second_order_norm_ids.append(u)\n",
        "        nda = df[\"bezeichnung\"].unique()\n",
        "        norm_bez = np.array2string(nda)\n",
        "        indirect_memberships_target_norm.append(norm_bez)    \n",
        "\n",
        "indirect_client_source_norm = list(set(indirect_client_source_norm))\n",
        "indirect_client_target_norm = list(set(indirect_client_target_norm))\n",
        "indirect_memberships_source_norm = list(set(indirect_memberships_source_norm))\n",
        "indirect_memberships_target_norm = list(set(indirect_memberships_target_norm))\n",
        "\n",
        "\n",
        "print(hr + hr)\n",
        "print(query + \" ist Auftraggeber von: \" + str(len(indirect_client_source_norm)))\n",
        "print(indirect_client_source_norm)\n",
        "print(hr)\n",
        "print(\"Folgende sind Auftraggeber von \" + query + \": \" + str(len(indirect_client_target_norm)))\n",
        "print(indirect_client_target_norm)\n",
        "print(hr)\n",
        "print(query + \" ist Mitglied in: \" + str(len(indirect_memberships_source_norm)))\n",
        "print(indirect_memberships_source_norm)\n",
        "print(hr)\n",
        "print(\"Folgende sind Mitglied in \" + query + \": \" + str(len(indirect_memberships_target_norm)))\n",
        "print(indirect_memberships_target_norm)\n"
      ],
      "metadata": {
        "colab": {
          "base_uri": "https://localhost:8080/"
        },
        "id": "ZXBQ9TwzJ4wn",
        "outputId": "b4c80991-e086-480a-b8f9-8b6b11b956fa"
      },
      "execution_count": 13,
      "outputs": [
        {
          "output_type": "stream",
          "name": "stdout",
          "text": [
            "----------\n",
            "SPD ist Auftraggeber von: 0\n",
            "[]\n",
            "-----\n",
            "Folgende sind Auftraggeber von SPD: 0\n",
            "[]\n",
            "-----\n",
            "SPD ist Mitglied in: 11\n",
            "[\"['Europäische Bewegung Deutschland e.V.']\", \"['Charta der Vielfalt']\", \"['Europäische Bewegung Deutschland e.V']\", \"['e.V.']\", \"['Europäische Bewegung Deutschland']\", \"['Europäische Bewegung Deutschland e.V. (EBD)']\", \"['Charta der Vielfalt e.V.']\", \"['Deutschland']\", \"['EBD']\", \"['Europäische Bewegung']\", \"['V.']\"]\n",
            "-----\n",
            "Folgende sind Mitglied in SPD: 191\n",
            "[\"['Verband norddeutscher Wohnungsunternehmen e.V. (VNW)']\", \"['Asklepios Kliniken GmbH & Co. KGaA']\", \"['Verband der Wohnungs- und Immobilienwirtschaft Rheinland Westfalen e. V. (VdW Rheinland Westfalen)']\", \"['Bundesverband der Deutschen Volksbanken und Raiffeisenbanken e.V. (BVR)']\", \"['Hewlett-Packard GmbH']\", \"['Gesamtverband Kommunikationsagenturen GWA e.V.']\", \"['Bundesarbeitsgemeinschaft Werkstätten für behinderte Menschen e. V.']\", \"['Dortmunder Stadtwerke (DSW21)']\", \"['DAPB | Deutsche Agentur für Politikberatung GmbH']\", \"['Google Germany GmbH']\", \"['Bundesverband der Deutschen Süßwarenindustrie e. V.']\", \"['JT International Germany GmbH']\", \"['Deutscher Verband für Telekommunikation und Medien (DVTM) e.V.']\", \"['Bundesverband des Deutschen Lebensmittelhandels e.V. (BVLH)']\", \"['Bundesverband energieeffiziente Gebäudehülle (BUVEG) e.V.']\", \"['Currenta GmbH & Co. OHG']\", \"['S-Public Services GmbH']\", \"['DocMorris N.V.']\", \"['Bundesverband der Deutschen Spirituosen-Industrie und -Importeure e. V. (BSI)']\", \"['CONCILIUS AG']\", \"['Advicepartners GmbH']\", \"['Deloitte GmbH Wirtschaftsprüfungsgesellschaft']\", \"['BP Europa SE']\", \"['Autobahn Tank & Rast Gruppe GmbH & Co. KG']\", \"['LÖWEN ENTERTAINMENT GmbH']\", \"['Zentraler Immobilien Ausschuss (ZIA) e.V.']\", \"['Bundesverband der Arzneimittel-Hersteller (BAH) e.V.']\", \"['EUTOP International GmbH (EUTOP)']\", \"['Amazon Deutschland Services GmbH']\", \"['Deutscher Steuerberaterverband e.V.']\", \"['RWE']\", \"['Verband der Privaten Bausparkassen e.V.']\", \"['Uber Germany GmbH']\", \"['APK AG']\", \"['Bundesverband Öffentlicher Banken Deutschlands e.V.']\", \"['Coca-Cola Europacific Partners Deutschland']\", \"['friedrich30 GmbH & Co. KG']\", \"['Deutscher Sparkassen- und Giroverband e.V.']\", \"['Bundesverband Investment und Asset Management (BVI)']\", \"['PepsiCo Deutschland GmbH']\", \"['8KU GmbH']\", \"['SAP SE']\", \"['Braunschweiger Netz GmbH']\", \"['Wirtschafliche Vereinigung Zucker e.V.']\", \"['Zentralverband Deutsches Kraftfahrzeuggewerbe e.V.']\", \"['secunet Security Networks AG']\", \"['Stadtwerke München GmbH']\", \"['Wirtschaftsvereinigung Stahl']\", \"['B. Braun SE']\", \"['Stiftung Marktwirtschaft']\", \"['RDA Internationaler Bustouristik Verband e.V.']\", \"['Edenred Deutschland']\", \"['Microsoft Deutschland GmbH']\", \"['CHECK24 Consulting GmbH']\", \"['R+V Versicherung AG']\", \"['Der Mittelstand, BVMW e.V. Bundesverband mittelständische Wirtschaft']\", \"['E.ON SE']\", \"['Gauselmann AG']\", \"['OVID Verband der ölsaatenverarbeitenden Industrie in Deutschland e.V.']\", \"['RheinEnergie AG']\", \"['Mainova AG']\", \"['ALDI SÜD Dienstleistungs-SE & Co. oHG']\", \"['REEMTSMA Cigarettenfabriken GmbH']\", \"['Swiss Life Deutschland Holding GmbH']\", \"['Bayer AG']\", \"['Bundesverband Baustoffe - Steine und Erden e.V.']\", \"['Deutscher Brauer-Bund e.V.']\", \"['Robert Bosch GmbH']\", \"['TRIMET Aluminium SE']\", \"['Gebr. Eickhoff Maschinenfabrik u. Eisengießerei GmbH']\", \"['Deutscher Franchiseverband']\", \"['HENSOLDT AG']\", \"['ZVEI e. V. - Verband der Elektro- und Digitalindustrie']\", \"['Deutscher Sportwettenverband e. V.']\", \"['BASF SE']\", \"['Bundesverband deutscher Banken e.V.']\", \"['Covestro Deutschland AG']\", \"['Deutsche Bank AG']\", \"['Landesverband der Privatkliniken in Rheinland-Pfalz und dem Saarland e.V.']\", \"['Mastercard']\", \"['Telefónica Germany GmbH & Co. OHG']\", \"['Avacon AG']\", \"['Verband der Immobilienverwalter Deutschland e.V.']\", \"['Verband der Privaten Krankenversicherung e.V.']\", \"['Deutsche Energie-Agentur GmbH']\", \"['Brainlab AG']\", \"['VOTUM Verband Unabhängiger Finanzdienstleistungsunternehmen in Europa e.V.']\", \"['Amprion GmbH']\", \"['Evonik Industries AG']\", \"['VAIS Verband für Anlagentechnik und IndustrieService e.V.']\", \"['Uniper SE']\", \"['Die Deutsche Automatenwirtschaft e.V.']\", \"['Verband der Chemischen Industrie e.V.']\", \"['Union Asset Management Holding AG']\", \"['Krauss-Maffei Wegmann GmbH & Co. KG']\", \"['Verband Deutscher Verkehrsunternehmen (VDV)']\", \"['Bundesverband Deutscher Unternehmensberatungen BDU e.V.']\", \"['Onyx Germany GmbH']\", \"['Deutscher Reiseverband e.V.']\", \"['Siemens AG']\", \"['Sanofi-Aventis Deutschland GmbH']\", \"['von Beust & Coll. Beratungsgesellschaft mbH & Co. KG']\", \"['Hays']\", \"['AUDI AG']\", \"['TIER Mobility SE']\", \"['Bundesverband Musikindustrie e.V.']\", \"['Commerzbank AG']\", \"['Immobilienverband Deutschland IVD Bundesverband der Immobilienberater, Makler, Verwalter und Sachverständigen e.V.']\", \"['Verband der Universitätsklinika Deutschlands (VUD)']\", \"['Facebook Germany GmbH']\", \"['Aurubis AG']\", \"['Zentralverband des Deutschen Baugewerbes e.V.']\", \"['Wirtschaftsverband Fuels und Energie e.V. - en2x -']\", \"['AT&T Global Network Services Deutschland GmbH']\", \"['Rud Pedersen Public Affairs Company Germany GmbH']\", \"['Philip Morris GmbH']\", \"['SCHMIDT Gruppe Service GmbH']\", \"['Toyota Motor Europe NV/SA, Berlin Office']\", \"['Becker Büttner Held, Rechtsanwälte Wirtschaftsprüfer Steuerberater PartGmbB']\", \"['Bayerische Motoren Werke Aktiengesellschaft']\", \"['ABDA - Bundesvereinigung Deutscher Apothekerverbände e. V.']\", \"['Fuchs & Cie. | Unternehmensberatung für Strategie & Kommunikation GmbH']\", \"['Bundesverband Neue Energiewirtschaft']\", \"['Ernst & Young GmbH Wirtschaftsprüfungsgesellschaft']\", \"['50Hertz Transmission GmbH']\", \"['Johanssen+Kretschmer Strategische Kommunikation GmbH']\", \"['ProSiebenSat.1 Media SE']\", \"['Autodesk GmbH']\", \"['Janssen-Cilag GmbH']\", \"['AfW Bundesverband Finanzdienstleistung e.V.']\", \"['BFW Bundesverband Freier Immobilien- und Wohnungsunternehmen e.V.']\", \"['ING-DiBa AG']\", \"['Handelsverband Deutschland - HDE - e. V.']\", \"['Samsung Electronics GmbH']\", \"['Veolia Deutschland GmbH']\", \"['Huawei Technologies Deutschland GmbH']\", \"['Bernstein Public Policy GmbH']\", \"['Bundesverband Alternative Investments e.V.']\", \"['Bundesverband Mineralische Rohstoffe e.V. (BV MIRO)']\", \"['Deutscher Onlinecasinoverband']\", \"['DIE FAMILIENUNTERNEHMER e.V. - DIE JUNGEN UNTERNEHMER']\", \"['365 Sherpas GmbH']\", \"['TenneT TSO GmbH']\", \"['Ecclesia Holding GmbH']\", \"['Verband Forschender Arzneimittelhersteller e.V. (vfa)']\", \"['envia Mitteldeutsche Energie AG']\", \"['GdW Bundesverband deutscher Wohnungs- und Immobilienunternehmen e.V.']\", \"['VIK Verband der Industriellen Energie- und Kraftwirschaft e.V.']\", \"['Deutsche Kreditbank AG']\", \"['EnBW Energie Baden-Württemberg AG']\", \"['Bundesverband Deutscher Omnibusunternehmen e. V.']\", \"['Techem']\", \"['Bundesverband der Deutschen Kalkindustrie e. V.']\", \"['Vonovia SE']\", \"['Allianz Deutschland AG']\", \"['Hauptverband der Deutschen Bauindustrie e.V.']\", \"['BDEW Bundesverband der Energie- und Wasserwirtschaft e.V.']\", \"['Viessmann Climate Solutions SE']\", \"['Accenture GmbH']\", \"['HAK Beratungs- und Vermögensgesellschaft mbH']\", \"['DWS Group GmbH & Co. KGaA']\", \"['Westdeutsche Lotterie GmbH & Co. OHG']\", \"['Orsted Wind Power Germany GmbH']\", \"['Bundesverband der Systemgastronomie e.V.']\", \"['Verband öffentlicher Versicherer e.V.']\", \"['Bundesverband Erdgas, Erdöl und Geoenergie e.V.']\", \"['Institut der Wirtschaftsprüfer in Deutschland e.V. (IDW)']\", \"['Salzgitter AG (Holding)']\", \"['NOVENTI Health SE']\", \"['Interel Deutschland GmbH']\", \"['Mercedes-Benz Group AG']\", \"['REWE-Zentralfinanz eG (REWE Group)']\", \"['Pivot Regulatory GmbH']\", \"['Bundesverband der Freien Berufe e. V. (BFB)']\", \"['Bundesverband der Deutschen Luftverkehrswirtschaft e.V.']\", \"['SPECTARIS. Deutscher Industrieverband für Optik, Photonik, Analysen- und Medizintechnik e.V.']\", \"['Bundesverband der Zigarrenindustrie e.V.']\", \"['Gauly Advisors GmbH']\", \"['Verband der Anbieter von Telekommunikations- und Mehrwertdiensten (VATM) e.V.']\", \"['VKU - Verband kommunaler Unternehmen e.V.']\", \"['ALBA']\", \"['Bundesverband der Pharmazeutischen Industrie e.V.']\", \"['DATABUND e.V.']\", \"['TransnetBW GmbH']\", \"['Schwarz Unternehmenskommunikation GmbH & Co. KG']\", \"['ista SE']\", \"['Safran GmbH']\", \"['Otto (GmbH & Co KG)']\", \"['Deutsche Telekom AG']\", \"['Deutsche Börse AG']\", \"['S&P Global Germany GmbH']\"]\n"
          ]
        }
      ]
    },
    {
      "cell_type": "markdown",
      "source": [
        "## Phase 6 - Speichern"
      ],
      "metadata": {
        "id": "nU9bvSLRQrkQ"
      }
    },
    {
      "cell_type": "code",
      "source": [
        "query_node_ids = first_order_norm_ids + first_order_orig_ids + second_order_norm_ids + second_order_orig_ids\n",
        "query_node_ids = list(set(query_node_ids))\n",
        "\n",
        "Q = F.subgraph(query_node_ids)\n",
        "Q.graph['name'] = \"q_\" + query[0:10] + \"_\" + str(datetime.now().strftime('%y%m%d-%H%M'))\n",
        "Q.graph['Abfrage'] = query\n",
        "\n",
        "###Saving query-subgraph as graphml\n",
        "nx.write_graphml(Q, path_jp + Q.graph['name'] + '.graphml', encoding='utf-8')\n",
        "out_graphml = Q.graph['name'] + '.graphml'"
      ],
      "metadata": {
        "id": "dglrUOOVQx2y"
      },
      "execution_count": 14,
      "outputs": []
    },
    {
      "cell_type": "markdown",
      "source": [
        "## Ablage"
      ],
      "metadata": {
        "id": "oOmG9-5OJ1OL"
      }
    },
    {
      "cell_type": "code",
      "source": [
        "%reset"
      ],
      "metadata": {
        "colab": {
          "base_uri": "https://localhost:8080/"
        },
        "id": "wTwuyq3yXGIk",
        "outputId": "82d260d4-8c60-48a9-d384-444d6f12041f"
      },
      "execution_count": null,
      "outputs": [
        {
          "name": "stdout",
          "output_type": "stream",
          "text": [
            "Once deleted, variables cannot be recovered. Proceed (y/[n])? y\n"
          ]
        }
      ]
    },
    {
      "cell_type": "code",
      "source": [
        "print(\"Graph: \" + F.graph['name'])\n",
        "print(\"Importierte Normalformen: \" + F.graph['files_norm'])\n",
        "print(\"Importierte Originalformen: \" + F.graph['files_orig'])\n",
        "print(\"-------------\")\n",
        "\n",
        "###Number of nodes:\n",
        "tmp_nodes = list(F)\n",
        "tmp_count_nodes_all = len(tmp_nodes)\n",
        "\n",
        "####Count norm-nodes\n",
        "tmp_count_nodes_norm, tmp_count_nodes_orig = 0, 0\n",
        "for tmp_i in range(len(tmp_nodes)):\n",
        "  if str(tmp_nodes[tmp_i]).startswith(\"norm\") == True:\n",
        "    tmp_count_nodes_norm = tmp_count_nodes_norm + 1\n",
        "  elif str(tmp_nodes[tmp_i]).startswith(\"orig\") == True:\n",
        "    tmp_count_nodes_orig = tmp_count_nodes_orig + 1\n",
        "\n",
        "tmp_out_count_node = \"Knoten: \" + str(tmp_count_nodes_all)\n",
        "tmp_out_count_nodes_norm = \"Normalformen (\" + str(tmp_count_nodes_norm) + \")\"\n",
        "tmp_out_count_nodes_orig = \"Originalformen (\" + str(tmp_count_nodes_orig) + \")\"\n",
        "\n",
        "print(tmp_out_count_node + \" - \" + tmp_out_count_nodes_norm + \" & \" + tmp_out_count_nodes_orig)\n",
        "\n",
        "###Number of edges\n",
        "tmp_edges = F.edges()\n",
        "tmp_count_edges = len(tmp_edges)\n",
        "\n",
        "edgelist = nx.to_pandas_edgelist(F)\n",
        "\n",
        "edges_values = edgelist['edge_typ'].value_counts()\n",
        "edges_values_dict = edges_values.to_dict()\n",
        "print(\"Kanten: \" + str(tmp_count_edges) + \" - 'Normalform von' (\" + str(edges_values_dict[\"ist die Normalform von\"]) + \"), 'Auftraggeber von' (\" + str(edges_values_dict[\"ist ein Auftraggeber von\"]) + \") & 'Mitglied in' (\" + str(edges_values_dict[\"ist ein Mitglied in\"]) + \")\")\n",
        "\n",
        "### Resetting temporary variables\n",
        "%reset_selective -f tmp"
      ],
      "metadata": {
        "colab": {
          "base_uri": "https://localhost:8080/"
        },
        "id": "zrhhkVYUgdSh",
        "outputId": "c6ace1fc-c9eb-46d1-a8c7-3d4a5ea0e1d1"
      },
      "execution_count": 15,
      "outputs": [
        {
          "output_type": "stream",
          "name": "stdout",
          "text": [
            "Graph: q_SPD_221029-2351\n",
            "Importierte Normalformen: ['2022-09-20_norm.csv']\n",
            "Importierte Originalformen: ['2022-09-20_orig_lobbyisten.csv', '2022-09-20_orig_mitgliedschaften.csv', '2022-09-20_orig_auftraggeber.csv']\n",
            "-------------\n",
            "Knoten: 46232 - Normalformen (25388) & Originalformen (20844)\n",
            "Kanten: 77587 - 'Normalform von' (20844), 'Auftraggeber von' (1897) & 'Mitglied in' (54846)\n"
          ]
        }
      ]
    }
  ]
}