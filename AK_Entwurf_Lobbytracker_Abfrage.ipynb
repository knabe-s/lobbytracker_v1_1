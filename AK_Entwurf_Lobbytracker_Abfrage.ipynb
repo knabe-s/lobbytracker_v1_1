{
  "nbformat": 4,
  "nbformat_minor": 0,
  "metadata": {
    "colab": {
      "provenance": [],
      "collapsed_sections": [
        "GEiJo9oHhWQE"
      ],
      "include_colab_link": true
    },
    "kernelspec": {
      "name": "python3",
      "display_name": "Python 3"
    },
    "language_info": {
      "name": "python"
    }
  },
  "cells": [
    {
      "cell_type": "markdown",
      "metadata": {
        "id": "view-in-github",
        "colab_type": "text"
      },
      "source": [
        "<a href=\"https://colab.research.google.com/github/knabe-s/lobbytracker_v1_1/blob/main/AK_Entwurf_Lobbytracker_Abfrage.ipynb\" target=\"_parent\"><img src=\"https://colab.research.google.com/assets/colab-badge.svg\" alt=\"Open In Colab\"/></a>"
      ]
    },
    {
      "cell_type": "markdown",
      "source": [
        "# Lobbytracker: Abfrage\n",
        "[Dokumentation](https://github.com/knabe-s/lobbytracker_v1/wiki/Dokumentation---Abfrage)"
      ],
      "metadata": {
        "id": "KXnXn40zNSjZ"
      }
    },
    {
      "cell_type": "code",
      "source": [
        "query = input(\"Nach welcher Organisation/Entität soll die Datenbank durchsucht werden? \")"
      ],
      "metadata": {
        "colab": {
          "base_uri": "https://localhost:8080/"
        },
        "id": "GHhJTaFywn5Z",
        "outputId": "615a5c56-71c1-4a41-e8c2-982ec5aa4df2"
      },
      "execution_count": 36,
      "outputs": [
        {
          "name": "stdout",
          "output_type": "stream",
          "text": [
            "Nach welcher Organisation/Entität soll die Datenbank durchsucht werden? Schneider\n"
          ]
        }
      ]
    },
    {
      "cell_type": "markdown",
      "source": [
        "## Phase 1 - Import des Graphen & Generieren der Node-Listen"
      ],
      "metadata": {
        "id": "GEiJo9oHhWQE"
      }
    },
    {
      "cell_type": "code",
      "source": [
        "from urllib import request\n",
        "from tqdm import tqdm\n",
        "import numpy as np\n",
        "import pandas as pd\n",
        "import networkx as nx\n",
        "from datetime import datetime\n",
        "import time\n",
        "import pprint\n",
        "\n",
        "pp = pprint.PrettyPrinter(indent=4)\n",
        "#pp = pprint.PrettyPrinter(indent=4, sort_dicts=False) #Needs at least Python Version 3.8\n",
        "hr = \"-----\"\n",
        "\n",
        "###Using Github\n",
        "path_jp = r\"/content/\"\n",
        "file_graph_url = r'https://raw.githubusercontent.com/knabe-s/lobbytracker_v1_1/main/data/graph/graph.graphml.gz'\n",
        "\n",
        "request.urlretrieve(file_graph_url, r'/content/graph.graphml.gz')\n",
        "\n",
        "F = nx.read_graphml(r'/content/graph.graphml.gz')\n",
        "\n",
        "###Getting list of all node-ids\n",
        "graph_nodes = list(F.nodes())\n",
        "\n",
        "###Generating dicts for norm- and orig-nodes\n",
        "norm_nodes = pd.DataFrame(columns=[\"node_id\", \"bezeichnung\"])\n",
        "orig_nodes = pd.DataFrame(columns=[\"node_id\", \"bezeichnung\"])\n",
        "\n",
        "for i in tqdm(range(len(graph_nodes))):\n",
        "  if \"norm\" in graph_nodes[i]:\n",
        "   norm_nodes.at[i, \"node_id\"] = graph_nodes[i]\n",
        "   norm_nodes.at[i, \"bezeichnung\"] = F.nodes[graph_nodes[i]][\"bezeichnung\"]\n",
        "  if \"orig\" in graph_nodes[i]:\n",
        "   orig_nodes.at[i, \"node_id\"] = graph_nodes[i]\n",
        "   orig_nodes.at[i, \"bezeichnung\"] = F.nodes[graph_nodes[i]][\"bezeichnung\"]"
      ],
      "metadata": {
        "id": "IOeSCPxLM8Xv",
        "colab": {
          "base_uri": "https://localhost:8080/"
        },
        "outputId": "162f77e8-6b90-4ea2-8d52-3fd4e3dcac79"
      },
      "execution_count": 37,
      "outputs": [
        {
          "output_type": "stream",
          "name": "stderr",
          "text": [
            "100%|██████████| 46232/46232 [01:05<00:00, 703.84it/s]\n"
          ]
        }
      ]
    },
    {
      "cell_type": "markdown",
      "source": [
        "## Phase 2 & 3 - Abfrage & Ausgabe (Treffer)"
      ],
      "metadata": {
        "id": "aoizuecvFjTE"
      }
    },
    {
      "cell_type": "code",
      "source": [
        "first_order_orig_ids = [] #Needed in Phase 6 for generating subgraph\n",
        "first_order_norm_ids = [] #Needed in Phase 6 for generating subgraph\n",
        "\n",
        "matches_norm = []\n",
        "matches_norm_bez = []\n",
        "matches_orig = []\n",
        "matches_orig_bez = []\n",
        "\n",
        "for i in range(len(norm_nodes)):\n",
        "  if query in norm_nodes.iat[i, 1]:\n",
        "    matches_norm.append(norm_nodes.iat[i, 0])\n",
        "    F.nodes[norm_nodes.iat[i, 0]]['node_typ'] = \"query_norm\"\n",
        "    F.nodes[norm_nodes.iat[i, 0]]['node_typ_int'] = 3\n",
        "    matches_norm_bez.append(norm_nodes.iat[i, 1])\n",
        "    first_order_norm_ids.append(norm_nodes.iat[i, 0])\n",
        "\n",
        "for i in range(len(orig_nodes)):\n",
        "  if query in orig_nodes.iat[i, 1]:\n",
        "    matches_orig.append(orig_nodes.iat[i, 0])\n",
        "    F.nodes[norm_nodes.iat[i, 0]]['node_typ'] = \"query_orig\"\n",
        "    F.nodes[norm_nodes.iat[i, 0]]['node_typ_int'] = 2\n",
        "    matches_orig_bez.append(orig_nodes.iat[i, 1])\n",
        "    first_order_orig_ids.append(orig_nodes.iat[i, 0])\n",
        "\n",
        "###Output: matches\n",
        "print(\"Abfrage: '\" + query + \"'\")\n",
        "print(hr)\n",
        "print(\"Treffer in Normalformen: \" + str(len(matches_norm)))\n",
        "pp.pprint(matches_norm_bez)\n",
        "print(hr)\n",
        "print(\"Treffer in Originalformen: \" + str(len(matches_orig)))\n",
        "pp.pprint(matches_orig_bez)\n",
        "\n",
        "\n",
        "matches_norm_edges = []\n",
        "for i in range(len(matches_norm)):\n",
        "  matches_norm_edges.append(list(F.edges(matches_norm[i])))\n",
        "\n",
        "for i in range(len(matches_norm_edges)):\n",
        "  #print(\"matches_norm_edges[i]: \" + str(matches_norm_edges[i]))\n",
        "  edge_pair = matches_norm_edges[i]\n",
        "  for c in range(len(edge_pair)):\n",
        "    edge_pair_tmp = edge_pair[c]\n",
        "    #print(edge_pair_tmp)\n",
        "    first_order_orig_ids.append(edge_pair_tmp[1])\n",
        "\n",
        "###Removing duplicate orig-node-ids\n",
        "first_order_orig_ids = list(set(first_order_orig_ids))"
      ],
      "metadata": {
        "colab": {
          "base_uri": "https://localhost:8080/"
        },
        "id": "H-0wcJqEF1YF",
        "outputId": "61071cac-74ee-4186-9997-f273346f7519"
      },
      "execution_count": 38,
      "outputs": [
        {
          "output_type": "stream",
          "name": "stdout",
          "text": [
            "Abfrage: 'Schneider'\n",
            "-----\n",
            "Treffer in Normalformen: 4\n",
            "[   'Blum & Schneider GmbH & Co. KG',\n",
            "    'Dichtungstechnik Wallstabe & Schneider GmbH & Co KG',\n",
            "    'Mirgel & Schneider GmbH',\n",
            "    'Schneider Electric GmbH']\n",
            "-----\n",
            "Treffer in Originalformen: 3\n",
            "[   'Schneider Electric GmbH',\n",
            "    'Dichtungstechnik Wallstabe & Schneider GmbH & Co KG',\n",
            "    'Schneider Electric GmbH']\n"
          ]
        }
      ]
    },
    {
      "cell_type": "markdown",
      "source": [
        "## Phase 4 - Ausgabe (Inhalte der direkten Treffer - 1ter Ordnung)"
      ],
      "metadata": {
        "id": "NuU_Kg4UF1Ju"
      }
    },
    {
      "cell_type": "code",
      "source": [
        "###Generating subgraph for all direct matches\n",
        "F_first_order = F.subgraph(first_order_orig_ids)\n",
        "\n",
        "graph = F_first_order\n",
        "df = pd.DataFrame.from_dict(dict(graph.nodes(data=True)),orient='index')\n",
        "df.to_csv(r'/content/df_' + query + '_eintraege_direkt.csv')"
      ],
      "metadata": {
        "id": "c6mhpubXHmtH"
      },
      "execution_count": 39,
      "outputs": []
    },
    {
      "cell_type": "markdown",
      "source": [
        "## Phase 5 - Ausgabe (Inhalte der indirekten Treffer - 2ter Ordnung)"
      ],
      "metadata": {
        "id": "3fnfcdTvHml7"
      }
    },
    {
      "cell_type": "code",
      "source": [
        "edgelist_graph = list(F.edges.data(\"edge_typ\"))\n",
        "\n",
        "second_order_orig_ids = []\n",
        "second_order_norm_ids = []\n",
        "\n",
        "indirect_client_source = []\n",
        "indirect_client_source_norm = []\n",
        "indirect_client_target = []\n",
        "indirect_client_target_norm = []\n",
        "indirect_memberships_source = []\n",
        "indirect_memberships_source_norm = []\n",
        "indirect_memberships_target = []\n",
        "indirect_memberships_target_norm = []\n",
        "clients_of = []\n",
        "client = []\n",
        "member_in = []\n",
        "memberships = []\n",
        "\n",
        "\n",
        "for i in range(len(first_order_orig_ids)):\n",
        "  for (u, v, t) in F.edges.data(\"edge_typ\"):\n",
        "    if \"Auftraggeber\" in F.edges[u, v][\"edge_typ\"]:\n",
        "      if first_order_orig_ids[i] == u:\n",
        "        indirect_client_source.append(v)\n",
        "      if first_order_orig_ids[i] == v:\n",
        "        indirect_client_target.append(u)\n",
        "        \n",
        "    if \"Mitglied\" in F.edges[u, v][\"edge_typ\"]:\n",
        "      if first_order_orig_ids[i] == u:\n",
        "        indirect_memberships_source.append(v)\n",
        "      if first_order_orig_ids[i] == v:\n",
        "        indirect_memberships_target.append(u)\n",
        "\n",
        "\n",
        "for i in range(len(indirect_client_source)):\n",
        "  clients_of.append(orig_nodes.loc[orig_nodes['node_id'] == indirect_client_source[i]])\n",
        "  second_order_orig_ids.append(indirect_client_source[i])\n",
        "for i in range(len(indirect_client_target)):\n",
        "  client.append(orig_nodes.loc[orig_nodes['node_id'] == indirect_client_target[i]])\n",
        "  second_order_orig_ids.append(indirect_client_target[i])\n",
        "for i in range(len(indirect_memberships_source)):\n",
        "  member_in.append(orig_nodes.loc[orig_nodes['node_id'] == indirect_memberships_source[i]])\n",
        "  second_order_orig_ids.append(indirect_memberships_source[i])\n",
        "for i in range(len(indirect_memberships_target)):\n",
        "  memberships.append(orig_nodes.loc[orig_nodes['node_id'] == indirect_memberships_target[i]])\n",
        "  second_order_orig_ids.append(indirect_memberships_target[i])\n",
        "\n",
        "\n",
        "for (u, v, t) in F.edges.data(\"edge_typ\"):\n",
        "  if \"Normalform\" in F.edges[u, v][\"edge_typ\"]:\n",
        "\n",
        "    for i in range(len(indirect_client_source)):\n",
        "      if v == indirect_client_source[i]:\n",
        "        df = norm_nodes.loc[norm_nodes[\"node_id\"] == u]\n",
        "        second_order_norm_ids.append(u)\n",
        "        nda = df[\"bezeichnung\"].unique()\n",
        "        norm_bez = np.array2string(nda)\n",
        "        indirect_client_source_norm.append(norm_bez)\n",
        "\n",
        "    for i in range(len(indirect_client_target)):\n",
        "      if v == indirect_client_target[i]:\n",
        "        df = norm_nodes.loc[norm_nodes[\"node_id\"] == u]\n",
        "        second_order_norm_ids.append(u)\n",
        "        nda = df[\"bezeichnung\"].unique()\n",
        "        norm_bez = np.array2string(nda)\n",
        "        indirect_client_target_norm.append(norm_bez)\n",
        "\n",
        "    for i in range(len(indirect_memberships_source)):\n",
        "      if v == indirect_memberships_source[i]:\n",
        "        df = norm_nodes.loc[norm_nodes[\"node_id\"] == u]\n",
        "        second_order_norm_ids.append(u)\n",
        "        nda = df[\"bezeichnung\"].unique()\n",
        "        norm_bez = np.array2string(nda)\n",
        "        indirect_memberships_source_norm.append(norm_bez)\n",
        "\n",
        "    for i in range(len(indirect_memberships_target)):\n",
        "      if v == indirect_memberships_target[i]:\n",
        "        df = norm_nodes.loc[norm_nodes[\"node_id\"] == u]\n",
        "        second_order_norm_ids.append(u)\n",
        "        nda = df[\"bezeichnung\"].unique()\n",
        "        norm_bez = np.array2string(nda)\n",
        "        indirect_memberships_target_norm.append(norm_bez)    \n",
        "\n",
        "indirect_client_source_norm = list(set(indirect_client_source_norm))\n",
        "indirect_client_target_norm = list(set(indirect_client_target_norm))\n",
        "indirect_memberships_source_norm = list(set(indirect_memberships_source_norm))\n",
        "indirect_memberships_target_norm = list(set(indirect_memberships_target_norm))\n",
        "\n",
        "\n",
        "print(hr + hr)\n",
        "print(query + \" ist Auftraggeber von: \" + str(len(indirect_client_source_norm)))\n",
        "print(indirect_client_source_norm)\n",
        "print(hr)\n",
        "print(\"Folgende sind Auftraggeber von \" + query + \": \" + str(len(indirect_client_target_norm)))\n",
        "print(indirect_client_target_norm)\n",
        "print(hr)\n",
        "print(query + \" ist Mitglied in: \" + str(len(indirect_memberships_source_norm)))\n",
        "print(indirect_memberships_source_norm)\n",
        "print(hr)\n",
        "print(\"Folgende sind Mitglied in \" + query + \": \" + str(len(indirect_memberships_target_norm)))\n",
        "print(indirect_memberships_target_norm)\n"
      ],
      "metadata": {
        "colab": {
          "base_uri": "https://localhost:8080/"
        },
        "id": "ZXBQ9TwzJ4wn",
        "outputId": "ddc124e2-a907-4e17-f98c-0222308b1a16"
      },
      "execution_count": 40,
      "outputs": [
        {
          "output_type": "stream",
          "name": "stdout",
          "text": [
            "----------\n",
            "Schneider ist Auftraggeber von: 1\n",
            "[\"['Deutsche Energie-Agentur GmbH']\"]\n",
            "-----\n",
            "Folgende sind Auftraggeber von Schneider: 0\n",
            "[]\n",
            "-----\n",
            "Schneider ist Mitglied in: 61\n",
            "[\"['EEBus Initiative e.V.']\", \"['Verband der Elektrotechnik Elektronik Informationstechnik']\", \"['EEB']\", \"['Hersteller']\", \"['Bundesverband Industrie Kommunikation e.V.']\", \"['Open District Hub e.V.']\", \"['Landesverband Nord']\", \"['VDE Verband der Elektrotechnik']\", \"['Forschungsgesellschaft Energie an der RWTH Aachen e. V.']\", \"['KVD Kundendienst-Verband Deutschland e.V.']\", \"['VDM']\", \"['VDMA e.V']\", \"['VDE Verband der Elektrotechnik Elektronik Informationstechnik e. V.']\", \"['VDI']\", \"['Herstellerverband Haus & Garten e.V.']\", \"['EFF']\", \"['EEBus']\", \"['Ene']\", \"['VDE']\", \"['buildingSMART Deutschland']\", \"['VDMA']\", \"['BFW Landesverband Nord e. V.']\", \"['Bundesverband WindEnergie e.V.']\", \"['e.V.']\", \"['Energie']\", \"['Bundesverband WindEnergie']\", \"['Bauen und Garten e.V.']\", \"['Deutsche Unternehmensinitiative Energieeffizienz']\", \"['German Datacenter Association e.V.']\", \"['Deutsche Unternehmensinitiative Energieeffizienz e.V.']\", \"['WindEnergy Network e.V.']\", \"['VDR']\", \"['BACnet Interest Group Europe e. V']\", \"['Verein Deutscher Ingenieure']\", \"['Aachen']\", \"['Verband Deutsches Reisemanagement e.V. (VDR)']\", \"['Initiative Women into Leadership e.V.']\", \"['ACE']\", \"['Deutsche Gesellschaft für Personalführung e.V.']\", \"['V.']\", \"['Deutschland']\", \"['buildingSMART Deutschland e.V.']\", \"['Elektronik']\", \"['Deutsche Energie-Agentur']\", \"['NFE Norddeutscher Fachverband Elektro- und Informationstechnik e.V.']\", \"['Deutsche Gesellschaft für Personalführung']\", \"['Deutsch-Französischer Wirtschaftskreis e.V.']\", \"['VDI Verein Deutscher Ingenieure e.V.']\", \"['VDMA e.V.']\", \"['Verband der Elektrotechnik']\", \"['Verein Deutscher Ingenieure e.V.']\", \"['Zentralverband Elektrotechnik- und Elektronikindustrie e.V.']\", \"['Zentralverband der Deutschen Elektro- und Informationstechnischen Handwerke']\", \"['Bundesverband']\", \"['Handelsverband Heimwerken']\", \"['Verband Deutsches Reisemanagement e.V.']\", \"['Deutsche Energie-Agentur GmbH']\", \"['Verein Deutscher Ingenieure (VDI)']\", \"['EEBus Initiative']\", \"['Deutsch-Französischer Wirtschaftskreis']\", \"['Deutsche Unternehmensinitiative Energieeffizienz e.V. (DENEFF)']\"]\n",
            "-----\n",
            "Folgende sind Mitglied in Schneider: 0\n",
            "[]\n"
          ]
        }
      ]
    },
    {
      "cell_type": "markdown",
      "source": [
        "## Phase 6 - Speichern"
      ],
      "metadata": {
        "id": "nU9bvSLRQrkQ"
      }
    },
    {
      "cell_type": "code",
      "source": [
        "query_node_ids = first_order_norm_ids + first_order_orig_ids + second_order_norm_ids + second_order_orig_ids\n",
        "query_node_ids = list(set(query_node_ids))\n",
        "\n",
        "Q = F.subgraph(query_node_ids)\n",
        "Q.graph['name'] = \"q_\" + query[0:10] + \"_\" + str(datetime.now().strftime('%y%m%d-%H%M'))\n",
        "Q.graph['Abfrage'] = query\n",
        "\n",
        "###Saving query-subgraph as graphml\n",
        "nx.write_graphml(Q, path_jp + Q.graph['name'] + '.graphml', encoding='utf-8')\n",
        "out_graphml = Q.graph['name'] + '.graphml'\n",
        "\n",
        "###Speichern der indirekten Treffer 2ter Ordner in einer csv\n",
        "graph = Q\n",
        "df = pd.DataFrame.from_dict(dict(graph.nodes(data=True)),orient='index')\n",
        "df.to_csv(r'/content/df_' + query + '_indirekte_verbindungen.csv')"
      ],
      "metadata": {
        "id": "dglrUOOVQx2y"
      },
      "execution_count": 41,
      "outputs": []
    },
    {
      "cell_type": "markdown",
      "source": [
        "## Ablage"
      ],
      "metadata": {
        "id": "oOmG9-5OJ1OL"
      }
    },
    {
      "cell_type": "code",
      "source": [
        "%reset"
      ],
      "metadata": {
        "colab": {
          "base_uri": "https://localhost:8080/"
        },
        "id": "wTwuyq3yXGIk",
        "outputId": "82d260d4-8c60-48a9-d384-444d6f12041f"
      },
      "execution_count": null,
      "outputs": [
        {
          "name": "stdout",
          "output_type": "stream",
          "text": [
            "Once deleted, variables cannot be recovered. Proceed (y/[n])? y\n"
          ]
        }
      ]
    },
    {
      "cell_type": "code",
      "source": [
        "print(\"Graph: \" + F.graph['name'])\n",
        "print(\"Importierte Normalformen: \" + F.graph['files_norm'])\n",
        "print(\"Importierte Originalformen: \" + F.graph['files_orig'])\n",
        "print(\"-------------\")\n",
        "\n",
        "###Number of nodes:\n",
        "tmp_nodes = list(F)\n",
        "tmp_count_nodes_all = len(tmp_nodes)\n",
        "\n",
        "####Count norm-nodes\n",
        "tmp_count_nodes_norm, tmp_count_nodes_orig = 0, 0\n",
        "for tmp_i in range(len(tmp_nodes)):\n",
        "  if str(tmp_nodes[tmp_i]).startswith(\"norm\") == True:\n",
        "    tmp_count_nodes_norm = tmp_count_nodes_norm + 1\n",
        "  elif str(tmp_nodes[tmp_i]).startswith(\"orig\") == True:\n",
        "    tmp_count_nodes_orig = tmp_count_nodes_orig + 1\n",
        "\n",
        "tmp_out_count_node = \"Knoten: \" + str(tmp_count_nodes_all)\n",
        "tmp_out_count_nodes_norm = \"Normalformen (\" + str(tmp_count_nodes_norm) + \")\"\n",
        "tmp_out_count_nodes_orig = \"Originalformen (\" + str(tmp_count_nodes_orig) + \")\"\n",
        "\n",
        "print(tmp_out_count_node + \" - \" + tmp_out_count_nodes_norm + \" & \" + tmp_out_count_nodes_orig)\n",
        "\n",
        "###Number of edges\n",
        "tmp_edges = F.edges()\n",
        "tmp_count_edges = len(tmp_edges)\n",
        "\n",
        "edgelist = nx.to_pandas_edgelist(F)\n",
        "\n",
        "edges_values = edgelist['edge_typ'].value_counts()\n",
        "edges_values_dict = edges_values.to_dict()\n",
        "print(\"Kanten: \" + str(tmp_count_edges) + \" - 'Normalform von' (\" + str(edges_values_dict[\"ist die Normalform von\"]) + \"), 'Auftraggeber von' (\" + str(edges_values_dict[\"ist ein Auftraggeber von\"]) + \") & 'Mitglied in' (\" + str(edges_values_dict[\"ist ein Mitglied in\"]) + \")\")\n",
        "\n",
        "### Resetting temporary variables\n",
        "%reset_selective -f tmp"
      ],
      "metadata": {
        "colab": {
          "base_uri": "https://localhost:8080/"
        },
        "id": "zrhhkVYUgdSh",
        "outputId": "f7472c9b-98c8-4c77-c983-66674c7891f0"
      },
      "execution_count": 42,
      "outputs": [
        {
          "output_type": "stream",
          "name": "stdout",
          "text": [
            "Graph: q_Schneider_221030-1459\n",
            "Importierte Normalformen: ['2022-09-20_norm.csv']\n",
            "Importierte Originalformen: ['2022-09-20_orig_lobbyisten.csv', '2022-09-20_orig_mitgliedschaften.csv', '2022-09-20_orig_auftraggeber.csv']\n",
            "-------------\n",
            "Knoten: 46232 - Normalformen (25388) & Originalformen (20844)\n",
            "Kanten: 77587 - 'Normalform von' (20844), 'Auftraggeber von' (1897) & 'Mitglied in' (54846)\n"
          ]
        }
      ]
    }
  ]
}