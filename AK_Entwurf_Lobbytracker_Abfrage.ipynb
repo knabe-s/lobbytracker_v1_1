{
  "nbformat": 4,
  "nbformat_minor": 0,
  "metadata": {
    "colab": {
      "provenance": [],
      "collapsed_sections": [],
      "include_colab_link": true
    },
    "kernelspec": {
      "name": "python3",
      "display_name": "Python 3"
    },
    "language_info": {
      "name": "python"
    }
  },
  "cells": [
    {
      "cell_type": "markdown",
      "metadata": {
        "id": "view-in-github",
        "colab_type": "text"
      },
      "source": [
        "<a href=\"https://colab.research.google.com/github/knabe-s/lobbytracker_v1_1/blob/main/AK_Entwurf_Lobbytracker_Abfrage.ipynb\" target=\"_parent\"><img src=\"https://colab.research.google.com/assets/colab-badge.svg\" alt=\"Open In Colab\"/></a>"
      ]
    },
    {
      "cell_type": "markdown",
      "source": [
        "# Lobbytracker: Abfrage\n",
        "[Dokumentation](https://github.com/knabe-s/lobbytracker_v1/wiki/Dokumentation---Abfrage)"
      ],
      "metadata": {
        "id": "KXnXn40zNSjZ"
      }
    },
    {
      "cell_type": "markdown",
      "source": [
        "## Phase 1 - Import des Graphen & Generieren der Node-Listen"
      ],
      "metadata": {
        "id": "GEiJo9oHhWQE"
      }
    },
    {
      "cell_type": "code",
      "source": [
        "import pprint\n",
        "from tqdm import tqdm\n",
        "import numpy as np\n",
        "import pandas as pd\n",
        "import networkx as nx\n",
        "from datetime import datetime\n",
        "import time\n",
        "\n",
        "pp = pprint.PrettyPrinter(indent=4)\n",
        "#pp = pprint.PrettyPrinter(indent=4, sort_dicts=False) #Needs at least Python Version 3.8\n",
        "hr = \"-----\"\n",
        "\n",
        "###Using Github\n",
        "path_jp = r\"/content/\"\n",
        "\n",
        "file_dir = input(\"Welche Graphdatenbank soll abgefragt werden? (Angabe im Format 'g_YYMMDD-mmHH'): \")\n",
        "file = \"/\" + file_dir + \".graphml\"\n",
        "path_nc = r\"/Documents/AK_Entwurf_Lobbytracker/\" + file_dir\n",
        "#file = \"g_220926-0311\" + \".graphml\"\n",
        "\n",
        "nc.get_file(path_nc + file)\n",
        "\n",
        "F = nx.read_graphml(path_jp + file)driv\n",
        "\n",
        "###Getting list of all node-ids\n",
        "graph_nodes = list(F.nodes())\n",
        "\n",
        "###Generating dicts for norm- and orig-nodes\n",
        "norm_nodes = pd.DataFrame(columns=[\"node_id\", \"bezeichnung\"])\n",
        "orig_nodes = pd.DataFrame(columns=[\"node_id\", \"bezeichnung\"])\n",
        "\n",
        "for i in tqdm(range(len(graph_nodes))):\n",
        "  if \"norm\" in graph_nodes[i]:\n",
        "   norm_nodes.at[i, \"node_id\"] = graph_nodes[i]\n",
        "   norm_nodes.at[i, \"bezeichnung\"] = F.nodes[graph_nodes[i]][\"bezeichnung\"]\n",
        "  if \"orig\" in graph_nodes[i]:\n",
        "   orig_nodes.at[i, \"node_id\"] = graph_nodes[i]\n",
        "   orig_nodes.at[i, \"bezeichnung\"] = F.nodes[graph_nodes[i]][\"bezeichnung\"]"
      ],
      "metadata": {
        "id": "IOeSCPxLM8Xv"
      },
      "execution_count": null,
      "outputs": []
    },
    {
      "cell_type": "markdown",
      "source": [
        "## Phase 2 - Abfrage"
      ],
      "metadata": {
        "id": "jgwSQXYRhgOE"
      }
    },
    {
      "cell_type": "code",
      "source": [
        "query = input(\"Nach welcher Organisation/Entität soll die Datenbank durchsucht werden? \")\n",
        "\n",
        "first_order_orig_ids = [] #Needed in Phase 6 for generating subgraph\n",
        "first_order_norm_ids = [] #Needed in Phase 6 for generating subgraph\n",
        "\n",
        "matches_norm = []\n",
        "matches_norm_bez = []\n",
        "matches_orig = []\n",
        "matches_orig_bez = []\n",
        "\n",
        "\n",
        "\n",
        "for i in range(len(norm_nodes)):\n",
        "  if query in norm_nodes.iat[i, 1]:\n",
        "    matches_norm.append(norm_nodes.iat[i, 0])\n",
        "    F.nodes[norm_nodes.iat[i, 0]]['node_typ'] = \"query_norm\"\n",
        "    F.nodes[norm_nodes.iat[i, 0]]['node_typ_int'] = 3\n",
        "    matches_norm_bez.append(norm_nodes.iat[i, 1])\n",
        "    first_order_norm_ids.append(norm_nodes.iat[i, 0])\n",
        "\n",
        "for i in range(len(orig_nodes)):\n",
        "  if query in orig_nodes.iat[i, 1]:\n",
        "    matches_orig.append(orig_nodes.iat[i, 0])\n",
        "    F.nodes[norm_nodes.iat[i, 0]]['node_typ'] = \"query_orig\"\n",
        "    F.nodes[norm_nodes.iat[i, 0]]['node_typ_int'] = 2\n",
        "    matches_orig_bez.append(orig_nodes.iat[i, 1])\n",
        "    first_order_orig_ids.append(orig_nodes.iat[i, 0])\n"
      ],
      "metadata": {
        "id": "ZwqeGM6fhQ_V",
        "colab": {
          "base_uri": "https://localhost:8080/"
        },
        "outputId": "d6f3e939-81fe-48d3-b1a1-d024ecb740c5"
      },
      "execution_count": null,
      "outputs": [
        {
          "name": "stdout",
          "output_type": "stream",
          "text": [
            "Nach welcher Organisation/Entität soll die Datenbank durchsucht werden? SPD Wirtschaftsforum\n"
          ]
        }
      ]
    },
    {
      "cell_type": "markdown",
      "source": [
        "## Phase 3 - Ausgabe (Treffer)"
      ],
      "metadata": {
        "id": "aoizuecvFjTE"
      }
    },
    {
      "cell_type": "code",
      "source": [
        "###Output: matches\n",
        "print(\"Abfrage: '\" + query + \"'\")\n",
        "print(hr)\n",
        "print(\"Treffer in Normalformen: \" + str(len(matches_norm)))\n",
        "pp.pprint(matches_norm_bez)\n",
        "print(hr)\n",
        "print(\"Treffer in Originalformen: \" + str(len(matches_orig)))\n",
        "pp.pprint(matches_orig_bez)\n",
        "\n",
        "\n",
        "matches_norm_edges = []\n",
        "for i in range(len(matches_norm)):\n",
        "  matches_norm_edges.append(list(F.edges(matches_norm[i])))\n",
        "\n",
        "for i in range(len(matches_norm_edges)):\n",
        "  #print(\"matches_norm_edges[i]: \" + str(matches_norm_edges[i]))\n",
        "  edge_pair = matches_norm_edges[i]\n",
        "  for c in range(len(edge_pair)):\n",
        "    edge_pair_tmp = edge_pair[c]\n",
        "    #print(edge_pair_tmp)\n",
        "    first_order_orig_ids.append(edge_pair_tmp[1])\n",
        "\n",
        "###Removing duplicate orig-node-ids\n",
        "first_order_orig_ids = list(set(first_order_orig_ids))"
      ],
      "metadata": {
        "colab": {
          "base_uri": "https://localhost:8080/"
        },
        "id": "H-0wcJqEF1YF",
        "outputId": "c04c0d02-ecc8-4191-ba8f-f327be7529ae"
      },
      "execution_count": null,
      "outputs": [
        {
          "output_type": "stream",
          "name": "stdout",
          "text": [
            "Abfrage: 'SPD Wirtschaftsforum'\n",
            "-----\n",
            "Treffer in Normalformen: 3\n",
            "[   'SPD Wirtschaftsforum',\n",
            "    'SPD Wirtschaftsforum e.V.',\n",
            "    'SPD Wirtschaftsforum e. V.']\n",
            "-----\n",
            "Treffer in Originalformen: 3\n",
            "[   'SPD Wirtschaftsforum',\n",
            "    'SPD Wirtschaftsforum e.V.',\n",
            "    'SPD Wirtschaftsforum e. V.']\n"
          ]
        }
      ]
    },
    {
      "cell_type": "markdown",
      "source": [
        "## Phase 4 - Ausgabe (Inhalte der direkten Treffer - 1ter Ordnung)"
      ],
      "metadata": {
        "id": "NuU_Kg4UF1Ju"
      }
    },
    {
      "cell_type": "code",
      "source": [
        "###Generating subgraph for all direct matches\n",
        "F_first_order = F.subgraph(first_order_orig_ids)\n",
        "\n",
        "###Printing all attributes of all direct matches\n",
        "for n in F_first_order.nodes():\n",
        "  first_order_output = F_first_order.nodes[n]\n",
        "  pp.pprint(first_order_output)"
      ],
      "metadata": {
        "colab": {
          "base_uri": "https://localhost:8080/"
        },
        "id": "c6mhpubXHmtH",
        "outputId": "f4e4fb14-34ec-4305-d600-c36a333f4c92"
      },
      "execution_count": null,
      "outputs": [
        {
          "output_type": "stream",
          "name": "stdout",
          "text": [
            "{   'bezeichnung': 'SPD Wirtschaftsforum e.V.',\n",
            "    'id': '0011499',\n",
            "    'letzte_akt': '2022-03-01',\n",
            "    'node_typ': 'orig',\n",
            "    'node_typ_int': 0,\n",
            "    'quelle': 'lobbyregister',\n",
            "    'typ': 'lobbyregister_membership'}\n",
            "{   'bezeichnung': 'SPD Wirtschaftsforum',\n",
            "    'id': '0011497',\n",
            "    'letzte_akt': '2022-02-22',\n",
            "    'node_typ': 'orig',\n",
            "    'node_typ_int': 0,\n",
            "    'quelle': 'lobbyregister',\n",
            "    'typ': 'lobbyregister_membership'}\n",
            "{   'bezeichnung': 'SPD Wirtschaftsforum e. V.',\n",
            "    'id': '0011500',\n",
            "    'letzte_akt': '2022-05-09',\n",
            "    'node_typ': 'orig',\n",
            "    'node_typ_int': 0,\n",
            "    'quelle': 'lobbyregister',\n",
            "    'typ': 'lobbyregister_membership'}\n"
          ]
        }
      ]
    },
    {
      "cell_type": "markdown",
      "source": [
        "## Phase 5 - Ausgabe (Inhalte der indirekten Treffer - 2ter Ordnung)"
      ],
      "metadata": {
        "id": "3fnfcdTvHml7"
      }
    },
    {
      "cell_type": "code",
      "source": [
        "edgelist_graph = list(F.edges.data(\"edge_typ\"))\n",
        "\n",
        "second_order_orig_ids = []\n",
        "second_order_norm_ids = []\n",
        "\n",
        "indirect_client_source = []\n",
        "indirect_client_source_norm = []\n",
        "indirect_client_target = []\n",
        "indirect_client_target_norm = []\n",
        "indirect_memberships_source = []\n",
        "indirect_memberships_source_norm = []\n",
        "indirect_memberships_target = []\n",
        "indirect_memberships_target_norm = []\n",
        "clients_of = []\n",
        "client = []\n",
        "member_in = []\n",
        "memberships = []\n",
        "\n",
        "\n",
        "for i in range(len(first_order_orig_ids)):\n",
        "  for (u, v, t) in F.edges.data(\"edge_typ\"):\n",
        "    if \"Auftraggeber\" in F.edges[u, v][\"edge_typ\"]:\n",
        "      if first_order_orig_ids[i] == u:\n",
        "        indirect_client_source.append(v)\n",
        "      if first_order_orig_ids[i] == v:\n",
        "        indirect_client_target.append(u)\n",
        "        \n",
        "    if \"Mitglied\" in F.edges[u, v][\"edge_typ\"]:\n",
        "      if first_order_orig_ids[i] == u:\n",
        "        indirect_memberships_source.append(v)\n",
        "      if first_order_orig_ids[i] == v:\n",
        "        indirect_memberships_target.append(u)\n",
        "\n",
        "\n",
        "for i in range(len(indirect_client_source)):\n",
        "  clients_of.append(orig_nodes.loc[orig_nodes['node_id'] == indirect_client_source[i]])\n",
        "  second_order_orig_ids.append(indirect_client_source[i])\n",
        "for i in range(len(indirect_client_target)):\n",
        "  client.append(orig_nodes.loc[orig_nodes['node_id'] == indirect_client_target[i]])\n",
        "  second_order_orig_ids.append(indirect_client_target[i])\n",
        "for i in range(len(indirect_memberships_source)):\n",
        "  member_in.append(orig_nodes.loc[orig_nodes['node_id'] == indirect_memberships_source[i]])\n",
        "  second_order_orig_ids.append(indirect_memberships_source[i])\n",
        "for i in range(len(indirect_memberships_target)):\n",
        "  memberships.append(orig_nodes.loc[orig_nodes['node_id'] == indirect_memberships_target[i]])\n",
        "  second_order_orig_ids.append(indirect_memberships_target[i])\n",
        "\n",
        "\n",
        "for (u, v, t) in F.edges.data(\"edge_typ\"):\n",
        "  if \"Normalform\" in F.edges[u, v][\"edge_typ\"]:\n",
        "\n",
        "    for i in range(len(indirect_client_source)):\n",
        "      if v == indirect_client_source[i]:\n",
        "        df = norm_nodes.loc[norm_nodes[\"node_id\"] == u]\n",
        "        second_order_norm_ids.append(u)\n",
        "        nda = df[\"bezeichnung\"].unique()\n",
        "        norm_bez = np.array2string(nda)\n",
        "        indirect_client_source_norm.append(norm_bez)\n",
        "\n",
        "    for i in range(len(indirect_client_target)):\n",
        "      if v == indirect_client_target[i]:\n",
        "        df = norm_nodes.loc[norm_nodes[\"node_id\"] == u]\n",
        "        second_order_norm_ids.append(u)\n",
        "        nda = df[\"bezeichnung\"].unique()\n",
        "        norm_bez = np.array2string(nda)\n",
        "        indirect_client_target_norm.append(norm_bez)\n",
        "\n",
        "    for i in range(len(indirect_memberships_source)):\n",
        "      if v == indirect_memberships_source[i]:\n",
        "        df = norm_nodes.loc[norm_nodes[\"node_id\"] == u]\n",
        "        second_order_norm_ids.append(u)\n",
        "        nda = df[\"bezeichnung\"].unique()\n",
        "        norm_bez = np.array2string(nda)\n",
        "        indirect_memberships_source_norm.append(norm_bez)\n",
        "\n",
        "    for i in range(len(indirect_memberships_target)):\n",
        "      if v == indirect_memberships_target[i]:\n",
        "        df = norm_nodes.loc[norm_nodes[\"node_id\"] == u]\n",
        "        second_order_norm_ids.append(u)\n",
        "        nda = df[\"bezeichnung\"].unique()\n",
        "        norm_bez = np.array2string(nda)\n",
        "        indirect_memberships_target_norm.append(norm_bez)    \n",
        "\n",
        "indirect_client_source_norm = list(set(indirect_client_source_norm))\n",
        "indirect_client_target_norm = list(set(indirect_client_target_norm))\n",
        "indirect_memberships_source_norm = list(set(indirect_memberships_source_norm))\n",
        "indirect_memberships_target_norm = list(set(indirect_memberships_target_norm))\n",
        "\n",
        "\n",
        "print(hr + hr)\n",
        "print(query + \" ist Auftraggeber von: \" + str(len(indirect_client_source_norm)))\n",
        "print(indirect_client_source_norm)\n",
        "print(hr)\n",
        "print(\"Folgende sind Auftraggeber von \" + query + \": \" + str(len(indirect_client_target_norm)))\n",
        "print(indirect_client_target_norm)\n",
        "print(hr)\n",
        "print(query + \" ist Mitglied in: \" + str(len(indirect_memberships_source_norm)))\n",
        "print(indirect_memberships_source_norm)\n",
        "print(hr)\n",
        "print(\"Folgende sind Mitglied in \" + query + \": \" + str(len(indirect_memberships_target_norm)))\n",
        "print(indirect_memberships_target_norm)\n"
      ],
      "metadata": {
        "colab": {
          "base_uri": "https://localhost:8080/"
        },
        "id": "ZXBQ9TwzJ4wn",
        "outputId": "bf48b7b1-c0ad-4d92-9c26-e20988efdcac"
      },
      "execution_count": null,
      "outputs": [
        {
          "output_type": "stream",
          "name": "stdout",
          "text": [
            "----------\n",
            "SPD Wirtschaftsforum ist Auftraggeber von: 0\n",
            "[]\n",
            "-----\n",
            "Folgende sind Auftraggeber von SPD Wirtschaftsforum: 0\n",
            "[]\n",
            "-----\n",
            "SPD Wirtschaftsforum ist Mitglied in: 0\n",
            "[]\n",
            "-----\n",
            "Folgende sind Mitglied in SPD Wirtschaftsforum: 9\n",
            "[\"['Verband der Universitätsklinika Deutschlands (VUD)']\", \"['VIK Verband der Industriellen Energie- und Kraftwirschaft e.V.']\", \"['Bundesverband der Zigarrenindustrie e.V.']\", \"['SAP SE']\", \"['Edenred Deutschland']\", \"['Bayer AG']\", \"['BASF SE']\", \"['TIER Mobility SE']\", \"['TenneT TSO GmbH']\"]\n"
          ]
        }
      ]
    },
    {
      "cell_type": "markdown",
      "source": [
        "## Phase 6 - Speichern und Zeichnen der Abfrage"
      ],
      "metadata": {
        "id": "nU9bvSLRQrkQ"
      }
    },
    {
      "cell_type": "code",
      "source": [
        "query_node_ids = first_order_norm_ids + first_order_orig_ids + second_order_norm_ids + second_order_orig_ids\n",
        "query_node_ids = list(set(query_node_ids))\n",
        "#print(len(query_node_ids))\n",
        "\n",
        "Q = F.subgraph(query_node_ids)\n",
        "Q.graph['name'] = \"q_\" + str(datetime.now().strftime('%y%m%d-%H%M'))\n",
        "Q.graph['Abfrage'] = query\n",
        "\n",
        "###Saving query-subgraph as graphml\n",
        "nx.write_graphml(Q, path_jp + Q.graph['name'] + '.graphml', encoding='utf-8')\n",
        "out_graphml = Q.graph['name'] + '.graphml'\n",
        "nc.put_file(path_nc + out_graphml, path_jp + out_graphml)\n"
      ],
      "metadata": {
        "colab": {
          "base_uri": "https://localhost:8080/"
        },
        "id": "dglrUOOVQx2y",
        "outputId": "60876dbd-ce36-459f-90d6-8bd95ad5d685"
      },
      "execution_count": null,
      "outputs": [
        {
          "output_type": "execute_result",
          "data": {
            "text/plain": [
              "True"
            ]
          },
          "metadata": {},
          "execution_count": 10
        }
      ]
    },
    {
      "cell_type": "code",
      "source": [
        "val_map = {\"\"}\n",
        "\n",
        "pos = nx.spring_layout(Q)\n",
        "nx.draw_networkx_nodes(Q, pos, cmap=plt.get_cmap('jet'), node_size = 50)\n",
        "#nx.draw_networkx_labels(Q, pos)\n",
        "nx.draw_networkx_edges(Q, pos, edge_color='black', arrows=True)\n",
        "plt.show()"
      ],
      "metadata": {
        "colab": {
          "base_uri": "https://localhost:8080/",
          "height": 248
        },
        "id": "6y3G3J7ETxKE",
        "outputId": "c5fccf43-5d34-4c6f-e7d9-3817ec6db00a"
      },
      "execution_count": null,
      "outputs": [
        {
          "output_type": "display_data",
          "data": {
            "text/plain": [
              "<Figure size 432x288 with 1 Axes>"
            ],
            "image/png": "[encoded data removed]"
          },
          "metadata": {}
        }
      ]
    },
    {
      "cell_type": "markdown",
      "source": [
        "## Ablage"
      ],
      "metadata": {
        "id": "oOmG9-5OJ1OL"
      }
    },
    {
      "cell_type": "code",
      "source": [
        "%reset"
      ],
      "metadata": {
        "colab": {
          "base_uri": "https://localhost:8080/"
        },
        "id": "wTwuyq3yXGIk",
        "outputId": "82d260d4-8c60-48a9-d384-444d6f12041f"
      },
      "execution_count": null,
      "outputs": [
        {
          "name": "stdout",
          "output_type": "stream",
          "text": [
            "Once deleted, variables cannot be recovered. Proceed (y/[n])? y\n"
          ]
        }
      ]
    },
    {
      "cell_type": "code",
      "source": [
        "print(\"Graph: \" + F.graph['name'])\n",
        "print(\"Importierte Normalformen: \" + F.graph['files_norm'])\n",
        "print(\"Importierte Originalformen: \" + F.graph['files_orig'])\n",
        "print(\"-------------\")\n",
        "\n",
        "###Number of nodes:\n",
        "tmp_nodes = list(F)\n",
        "tmp_count_nodes_all = len(tmp_nodes)\n",
        "\n",
        "####Count norm-nodes\n",
        "tmp_count_nodes_norm, tmp_count_nodes_orig = 0, 0\n",
        "for tmp_i in range(len(tmp_nodes)):\n",
        "  if str(tmp_nodes[tmp_i]).startswith(\"norm\") == True:\n",
        "    tmp_count_nodes_norm = tmp_count_nodes_norm + 1\n",
        "  elif str(tmp_nodes[tmp_i]).startswith(\"orig\") == True:\n",
        "    tmp_count_nodes_orig = tmp_count_nodes_orig + 1\n",
        "\n",
        "tmp_out_count_node = \"Knoten: \" + str(tmp_count_nodes_all)\n",
        "tmp_out_count_nodes_norm = \"Normalformen (\" + str(tmp_count_nodes_norm) + \")\"\n",
        "tmp_out_count_nodes_orig = \"Originalformen (\" + str(tmp_count_nodes_orig) + \")\"\n",
        "\n",
        "print(tmp_out_count_node + \" - \" + tmp_out_count_nodes_norm + \" & \" + tmp_out_count_nodes_orig)\n",
        "\n",
        "###Number of edges\n",
        "tmp_edges = F.edges()\n",
        "tmp_count_edges = len(tmp_edges)\n",
        "\n",
        "edgelist = nx.to_pandas_edgelist(F)\n",
        "\n",
        "edges_values = edgelist['edge_typ'].value_counts()\n",
        "edges_values_dict = edges_values.to_dict()\n",
        "print(\"Kanten: \" + str(tmp_count_edges) + \" - 'Normalform von' (\" + str(edges_values_dict[\"ist die Normalform von\"]) + \"), 'Auftraggeber von' (\" + str(edges_values_dict[\"ist ein Auftraggeber von\"]) + \") & 'Mitglied in' (\" + str(edges_values_dict[\"ist ein Mitglied in\"]) + \")\")\n",
        "\n",
        "### Resetting temporary variables\n",
        "%reset_selective -f tmp"
      ],
      "metadata": {
        "colab": {
          "base_uri": "https://localhost:8080/"
        },
        "id": "zrhhkVYUgdSh",
        "outputId": "bf20dd77-6b04-4487-b5ae-3f74c899df42"
      },
      "execution_count": null,
      "outputs": [
        {
          "output_type": "stream",
          "name": "stdout",
          "text": [
            "Graph: q_221026-1302\n",
            "Importierte Normalformen: ['2022-09-20_norm.csv']\n",
            "Importierte Originalformen: ['2022-09-20_orig_lobbyisten.csv', '2022-09-20_orig_mitgliedschaften.csv', '2022-09-20_orig_auftraggeber.csv']\n",
            "-------------\n",
            "Knoten: 46232 - Normalformen (25388) & Originalformen (20844)\n",
            "Kanten: 77587 - 'Normalform von' (20844), 'Auftraggeber von' (1897) & 'Mitglied in' (54846)\n"
          ]
        }
      ]
    }
  ]
}