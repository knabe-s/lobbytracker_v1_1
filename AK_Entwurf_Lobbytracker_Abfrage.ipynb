{
  "nbformat": 4,
  "nbformat_minor": 0,
  "metadata": {
    "colab": {
      "provenance": [],
      "collapsed_sections": [
        "GEiJo9oHhWQE"
      ],
      "include_colab_link": true
    },
    "kernelspec": {
      "name": "python3",
      "display_name": "Python 3"
    },
    "language_info": {
      "name": "python"
    }
  },
  "cells": [
    {
      "cell_type": "markdown",
      "metadata": {
        "id": "view-in-github",
        "colab_type": "text"
      },
      "source": [
        "<a href=\"https://colab.research.google.com/github/knabe-s/lobbytracker_v1_1/blob/main/AK_Entwurf_Lobbytracker_Abfrage.ipynb\" target=\"_parent\"><img src=\"https://colab.research.google.com/assets/colab-badge.svg\" alt=\"Open In Colab\"/></a>"
      ]
    },
    {
      "cell_type": "markdown",
      "source": [
        "# Lobbytracker: Abfrage\n",
        "[Dokumentation](https://github.com/knabe-s/lobbytracker_v1/wiki/Dokumentation---Abfrage)"
      ],
      "metadata": {
        "id": "KXnXn40zNSjZ"
      }
    },
    {
      "cell_type": "code",
      "source": [
        "query = input(\"Nach welcher Organisation/Entität soll die Datenbank durchsucht werden? \")"
      ],
      "metadata": {
        "colab": {
          "base_uri": "https://localhost:8080/"
        },
        "id": "GHhJTaFywn5Z",
        "outputId": "38caeed3-596d-4024-bc5e-833606c5aba1"
      },
      "execution_count": 14,
      "outputs": [
        {
          "name": "stdout",
          "output_type": "stream",
          "text": [
            "Nach welcher Organisation/Entität soll die Datenbank durchsucht werden? SPD\n"
          ]
        }
      ]
    },
    {
      "cell_type": "markdown",
      "source": [
        "## Phase 1 - Import des Graphen & Generieren der Node-Listen"
      ],
      "metadata": {
        "id": "GEiJo9oHhWQE"
      }
    },
    {
      "cell_type": "code",
      "source": [
        "from urllib import request\n",
        "from tqdm import tqdm\n",
        "import numpy as np\n",
        "import pandas as pd\n",
        "import networkx as nx\n",
        "from datetime import datetime\n",
        "import time\n",
        "import pprint\n",
        "\n",
        "pp = pprint.PrettyPrinter(indent=4)\n",
        "#pp = pprint.PrettyPrinter(indent=4, sort_dicts=False) #Needs at least Python Version 3.8\n",
        "hr = \"-----\"\n",
        "\n",
        "###Using Github\n",
        "path_jp = r\"/content/\"\n",
        "file_graph_url = r'https://raw.githubusercontent.com/knabe-s/lobbytracker_v1_1/main/data/graph/graph.graphml.gz'\n",
        "\n",
        "request.urlretrieve(file_graph_url, r'/content/graph.graphml.gz')\n",
        "\n",
        "F = nx.read_graphml(r'/content/graph.graphml.gz')\n",
        "\n",
        "###Getting list of all node-ids\n",
        "graph_nodes = list(F.nodes())\n",
        "\n",
        "###Generating dicts for norm- and orig-nodes\n",
        "norm_nodes = pd.DataFrame(columns=[\"node_id\", \"bezeichnung\"])\n",
        "orig_nodes = pd.DataFrame(columns=[\"node_id\", \"bezeichnung\"])\n",
        "\n",
        "for i in tqdm(range(len(graph_nodes))):\n",
        "  if \"norm\" in graph_nodes[i]:\n",
        "   norm_nodes.at[i, \"node_id\"] = graph_nodes[i]\n",
        "   norm_nodes.at[i, \"bezeichnung\"] = F.nodes[graph_nodes[i]][\"bezeichnung\"]\n",
        "  if \"orig\" in graph_nodes[i]:\n",
        "   orig_nodes.at[i, \"node_id\"] = graph_nodes[i]\n",
        "   orig_nodes.at[i, \"bezeichnung\"] = F.nodes[graph_nodes[i]][\"bezeichnung\"]"
      ],
      "metadata": {
        "id": "IOeSCPxLM8Xv",
        "colab": {
          "base_uri": "https://localhost:8080/"
        },
        "outputId": "67ee4f16-1acc-48f0-ff29-f86d6c397a91"
      },
      "execution_count": 7,
      "outputs": [
        {
          "output_type": "stream",
          "name": "stderr",
          "text": [
            "100%|██████████| 46232/46232 [01:12<00:00, 633.83it/s]\n"
          ]
        }
      ]
    },
    {
      "cell_type": "markdown",
      "source": [
        "## Phase 2 & 3 - Abfrage & Ausgabe (Treffer)"
      ],
      "metadata": {
        "id": "aoizuecvFjTE"
      }
    },
    {
      "cell_type": "code",
      "source": [
        "first_order_orig_ids = [] #Needed in Phase 6 for generating subgraph\n",
        "first_order_norm_ids = [] #Needed in Phase 6 for generating subgraph\n",
        "\n",
        "matches_norm = []\n",
        "matches_norm_bez = []\n",
        "matches_orig = []\n",
        "matches_orig_bez = []\n",
        "\n",
        "for i in range(len(norm_nodes)):\n",
        "  if query in norm_nodes.iat[i, 1]:\n",
        "    matches_norm.append(norm_nodes.iat[i, 0])\n",
        "    F.nodes[norm_nodes.iat[i, 0]]['node_typ'] = \"query_norm\"\n",
        "    F.nodes[norm_nodes.iat[i, 0]]['node_typ_int'] = 3\n",
        "    matches_norm_bez.append(norm_nodes.iat[i, 1])\n",
        "    first_order_norm_ids.append(norm_nodes.iat[i, 0])\n",
        "\n",
        "for i in range(len(orig_nodes)):\n",
        "  if query in orig_nodes.iat[i, 1]:\n",
        "    matches_orig.append(orig_nodes.iat[i, 0])\n",
        "    F.nodes[norm_nodes.iat[i, 0]]['node_typ'] = \"query_orig\"\n",
        "    F.nodes[norm_nodes.iat[i, 0]]['node_typ_int'] = 2\n",
        "    matches_orig_bez.append(orig_nodes.iat[i, 1])\n",
        "    first_order_orig_ids.append(orig_nodes.iat[i, 0])\n",
        "\n",
        "###Output: matches\n",
        "print(\"Abfrage: '\" + query + \"'\")\n",
        "print(hr)\n",
        "print(\"Treffer in Normalformen: \" + str(len(matches_norm)))\n",
        "pp.pprint(matches_norm_bez)\n",
        "print(hr)\n",
        "print(\"Treffer in Originalformen: \" + str(len(matches_orig)))\n",
        "pp.pprint(matches_orig_bez)\n",
        "\n",
        "\n",
        "matches_norm_edges = []\n",
        "for i in range(len(matches_norm)):\n",
        "  matches_norm_edges.append(list(F.edges(matches_norm[i])))\n",
        "\n",
        "for i in range(len(matches_norm_edges)):\n",
        "  #print(\"matches_norm_edges[i]: \" + str(matches_norm_edges[i]))\n",
        "  edge_pair = matches_norm_edges[i]\n",
        "  for c in range(len(edge_pair)):\n",
        "    edge_pair_tmp = edge_pair[c]\n",
        "    #print(edge_pair_tmp)\n",
        "    first_order_orig_ids.append(edge_pair_tmp[1])\n",
        "\n",
        "###Removing duplicate orig-node-ids\n",
        "first_order_orig_ids = list(set(first_order_orig_ids))"
      ],
      "metadata": {
        "colab": {
          "base_uri": "https://localhost:8080/"
        },
        "id": "H-0wcJqEF1YF",
        "outputId": "8a68840a-dee1-46db-a38b-c47fc4829f5e"
      },
      "execution_count": 15,
      "outputs": [
        {
          "output_type": "stream",
          "name": "stdout",
          "text": [
            "Abfrage: 'SPD'\n",
            "-----\n",
            "Treffer in Normalformen: 19\n",
            "[   'Bitkom e. V.; Grüner Wirtschaftsdialog e. V.; Wirtschaftsforum der SPD e. '\n",
            "    'V.',\n",
            "    'Denkfabrik in der SPD-Bundestagsfraktion',\n",
            "    'European Association of Service Providers for Persons with Disability '\n",
            "    '(EASPD)',\n",
            "    'SPD-Landtagsfraktion',\n",
            "    'SPD-Saarland',\n",
            "    'SPD Wirtschaftsforum',\n",
            "    'SPD-Wirtschaftsforum',\n",
            "    'SPD Wirtschaftsforum e.V.',\n",
            "    'SPD Wirtschaftsforum e. V.',\n",
            "    'SPD-Wirtschaftsforum e.V.',\n",
            "    'Wirtschaftforum der SPD e.V.',\n",
            "    'Wirtschaftsforum der SPD',\n",
            "    'Wirtschaftsforum der SPD Deutschland e.V.',\n",
            "    'Wirtschaftsforum der SPD e.V.',\n",
            "    'Wirtschaftsforum der SPD e. V.',\n",
            "    'Wirtschafts Forum der SPD e.V.',\n",
            "    'Wirtschaftsforum der SPD e.V. (pers. Mitgliedschaft)',\n",
            "    'Wirtschaftsforum SPD',\n",
            "    'Wirtschaftsfourm der SPD']\n",
            "-----\n",
            "Treffer in Originalformen: 20\n",
            "[   'Denkfabrik in der SPD-Bundestagsfraktion',\n",
            "    'Wirtschaftsforum der SPD e.V.',\n",
            "    'Bitkom e. V.; Grüner Wirtschaftsdialog e. V.; Wirtschaftsforum der SPD e. '\n",
            "    'V.',\n",
            "    'European Association of Service Providers for Persons with Disability '\n",
            "    '(EASPD)',\n",
            "    'SPD Wirtschaftsforum',\n",
            "    'SPD-Wirtschaftsforum',\n",
            "    'SPD Wirtschaftsforum e.V.',\n",
            "    'SPD Wirtschaftsforum e. V.',\n",
            "    'SPD-Wirtschaftsforum e.V.',\n",
            "    'Wirtschaftforum der SPD e.V.',\n",
            "    'Wirtschaftsforum der SPD',\n",
            "    'Wirtschaftsforum der SPD Deutschland e.V.',\n",
            "    'Wirtschaftsforum der SPD e.V',\n",
            "    'Wirtschaftsforum der SPD e.V:',\n",
            "    'Wirtschaftsforum der SPD e.V.',\n",
            "    'Wirtschaftsforum der SPD e. V.',\n",
            "    'Wirtschafts Forum der SPD e.V.',\n",
            "    'Wirtschaftsforum der SPD e.V. (pers. Mitgliedschaft)',\n",
            "    'Wirtschaftsforum SPD',\n",
            "    'Wirtschaftsfourm der SPD']\n"
          ]
        }
      ]
    },
    {
      "cell_type": "markdown",
      "source": [
        "## Phase 4 - Ausgabe (Inhalte der direkten Treffer - 1ter Ordnung)"
      ],
      "metadata": {
        "id": "NuU_Kg4UF1Ju"
      }
    },
    {
      "cell_type": "code",
      "source": [
        "###Generating subgraph for all direct matches\n",
        "F_first_order = F.subgraph(first_order_orig_ids)\n",
        "\n",
        "df = pd.DataFrame(columns=['bezeichnung', 'typ', 'node_typ', 'id', 'quelle', 'letzte_akt', 'node_typ_int'])\n",
        "\n",
        "###Printing all attributes of all direct matches\n",
        "for n in F_first_order.nodes():\n",
        "  first_order_output = F_first_order.nodes[n]\n",
        "  pp.pprint(first_order_output)\n",
        "  #tmp_DF = pd.DataFrame.from_dict([first_order_output])\n",
        "  pd.concat(tmp_DF, df)\n",
        "\n",
        "df.to_csv(r'/content/df_order_1.csv')"
      ],
      "metadata": {
        "colab": {
          "base_uri": "https://localhost:8080/",
          "height": 887
        },
        "id": "c6mhpubXHmtH",
        "outputId": "6965d16f-be99-4dbc-fc60-10cc7d3dab4a"
      },
      "execution_count": 80,
      "outputs": [
        {
          "output_type": "stream",
          "name": "stdout",
          "text": [
            "{   'art_rechtsform': 'Nicht rechtsfähiger Verein',\n",
            "    'auftraggeber_anzahl': nan,\n",
            "    'bezeichnung': 'Denkfabrik in der SPD-Bundestagsfraktion',\n",
            "    'ersteintrag': '2022-03-01',\n",
            "    'intver_anzahl_besch_max': 0,\n",
            "    'intver_anzahl_besch_min': 0,\n",
            "    'intver_finanz_aufw_jahr_bis': 10000.0,\n",
            "    'intver_finanz_aufw_jahr_von': 1.0,\n",
            "    'intver_jahr_ende': '12/20',\n",
            "    'intver_jahr_start': '01/20',\n",
            "    'intver_personen_unmittelbar_anzahl': nan,\n",
            "    'jahres_akt': nan,\n",
            "    'letzte_akt': '2022-06-13',\n",
            "    'mitglieder_anzahl_wert': 77.0,\n",
            "    'mitglieder_zaehlung_datum': '2022-02-24',\n",
            "    'mitgliedschaften_anzahl': nan,\n",
            "    'node_typ': 'orig',\n",
            "    'node_typ_int': 0,\n",
            "    'quelle': 'lobbyregister',\n",
            "    'quelle_id': 'R002514',\n",
            "    'taetigkeitskategorie': 'Wissenschaft, Denkfabrik, Forschungseinrichtung '\n",
            "                            'oder Hochschule',\n",
            "    'typ': 'lobbyregister_lobbyist'}\n"
          ]
        },
        {
          "output_type": "stream",
          "name": "stderr",
          "text": [
            "/usr/local/lib/python3.7/dist-packages/ipykernel_launcher.py:11: FutureWarning: In a future version of pandas all arguments of concat except for the argument 'objs' will be keyword-only\n",
            "  # This is added back by InteractiveShellApp.init_path()\n"
          ]
        },
        {
          "output_type": "error",
          "ename": "TypeError",
          "evalue": "ignored",
          "traceback": [
            "\u001b[0;31m---------------------------------------------------------------------------\u001b[0m",
            "\u001b[0;31mTypeError\u001b[0m                                 Traceback (most recent call last)",
            "\u001b[0;32m<ipython-input-80-acd7bff7edb4>\u001b[0m in \u001b[0;36m<module>\u001b[0;34m\u001b[0m\n\u001b[1;32m      9\u001b[0m   \u001b[0mpp\u001b[0m\u001b[0;34m.\u001b[0m\u001b[0mpprint\u001b[0m\u001b[0;34m(\u001b[0m\u001b[0mfirst_order_output\u001b[0m\u001b[0;34m)\u001b[0m\u001b[0;34m\u001b[0m\u001b[0;34m\u001b[0m\u001b[0m\n\u001b[1;32m     10\u001b[0m   \u001b[0mtmp_DF\u001b[0m \u001b[0;34m=\u001b[0m \u001b[0mpd\u001b[0m\u001b[0;34m.\u001b[0m\u001b[0mDataFrame\u001b[0m\u001b[0;34m.\u001b[0m\u001b[0mfrom_dict\u001b[0m\u001b[0;34m(\u001b[0m\u001b[0;34m[\u001b[0m\u001b[0mfirst_order_output\u001b[0m\u001b[0;34m]\u001b[0m\u001b[0;34m)\u001b[0m\u001b[0;34m\u001b[0m\u001b[0;34m\u001b[0m\u001b[0m\n\u001b[0;32m---> 11\u001b[0;31m   \u001b[0mpd\u001b[0m\u001b[0;34m.\u001b[0m\u001b[0mconcat\u001b[0m\u001b[0;34m(\u001b[0m\u001b[0mtmp_DF\u001b[0m\u001b[0;34m,\u001b[0m \u001b[0mdf\u001b[0m\u001b[0;34m)\u001b[0m\u001b[0;34m\u001b[0m\u001b[0;34m\u001b[0m\u001b[0m\n\u001b[0m\u001b[1;32m     12\u001b[0m \u001b[0;34m\u001b[0m\u001b[0m\n\u001b[1;32m     13\u001b[0m \u001b[0mdf\u001b[0m\u001b[0;34m.\u001b[0m\u001b[0mto_csv\u001b[0m\u001b[0;34m(\u001b[0m\u001b[0;34mr'/content/df_order_1.csv'\u001b[0m\u001b[0;34m)\u001b[0m\u001b[0;34m\u001b[0m\u001b[0;34m\u001b[0m\u001b[0m\n",
            "\u001b[0;32m/usr/local/lib/python3.7/dist-packages/pandas/util/_decorators.py\u001b[0m in \u001b[0;36mwrapper\u001b[0;34m(*args, **kwargs)\u001b[0m\n\u001b[1;32m    309\u001b[0m                     \u001b[0mstacklevel\u001b[0m\u001b[0;34m=\u001b[0m\u001b[0mstacklevel\u001b[0m\u001b[0;34m,\u001b[0m\u001b[0;34m\u001b[0m\u001b[0;34m\u001b[0m\u001b[0m\n\u001b[1;32m    310\u001b[0m                 )\n\u001b[0;32m--> 311\u001b[0;31m             \u001b[0;32mreturn\u001b[0m \u001b[0mfunc\u001b[0m\u001b[0;34m(\u001b[0m\u001b[0;34m*\u001b[0m\u001b[0margs\u001b[0m\u001b[0;34m,\u001b[0m \u001b[0;34m**\u001b[0m\u001b[0mkwargs\u001b[0m\u001b[0;34m)\u001b[0m\u001b[0;34m\u001b[0m\u001b[0;34m\u001b[0m\u001b[0m\n\u001b[0m\u001b[1;32m    312\u001b[0m \u001b[0;34m\u001b[0m\u001b[0m\n\u001b[1;32m    313\u001b[0m         \u001b[0;32mreturn\u001b[0m \u001b[0mwrapper\u001b[0m\u001b[0;34m\u001b[0m\u001b[0;34m\u001b[0m\u001b[0m\n",
            "\u001b[0;32m/usr/local/lib/python3.7/dist-packages/pandas/core/reshape/concat.py\u001b[0m in \u001b[0;36mconcat\u001b[0;34m(objs, axis, join, ignore_index, keys, levels, names, verify_integrity, sort, copy)\u001b[0m\n\u001b[1;32m    302\u001b[0m         \u001b[0mverify_integrity\u001b[0m\u001b[0;34m=\u001b[0m\u001b[0mverify_integrity\u001b[0m\u001b[0;34m,\u001b[0m\u001b[0;34m\u001b[0m\u001b[0;34m\u001b[0m\u001b[0m\n\u001b[1;32m    303\u001b[0m         \u001b[0mcopy\u001b[0m\u001b[0;34m=\u001b[0m\u001b[0mcopy\u001b[0m\u001b[0;34m,\u001b[0m\u001b[0;34m\u001b[0m\u001b[0;34m\u001b[0m\u001b[0m\n\u001b[0;32m--> 304\u001b[0;31m         \u001b[0msort\u001b[0m\u001b[0;34m=\u001b[0m\u001b[0msort\u001b[0m\u001b[0;34m,\u001b[0m\u001b[0;34m\u001b[0m\u001b[0;34m\u001b[0m\u001b[0m\n\u001b[0m\u001b[1;32m    305\u001b[0m     )\n\u001b[1;32m    306\u001b[0m \u001b[0;34m\u001b[0m\u001b[0m\n",
            "\u001b[0;32m/usr/local/lib/python3.7/dist-packages/pandas/core/reshape/concat.py\u001b[0m in \u001b[0;36m__init__\u001b[0;34m(self, objs, axis, join, keys, levels, names, ignore_index, verify_integrity, copy, sort)\u001b[0m\n\u001b[1;32m    328\u001b[0m         \u001b[0;32mif\u001b[0m \u001b[0misinstance\u001b[0m\u001b[0;34m(\u001b[0m\u001b[0mobjs\u001b[0m\u001b[0;34m,\u001b[0m \u001b[0;34m(\u001b[0m\u001b[0mABCSeries\u001b[0m\u001b[0;34m,\u001b[0m \u001b[0mABCDataFrame\u001b[0m\u001b[0;34m,\u001b[0m \u001b[0mstr\u001b[0m\u001b[0;34m)\u001b[0m\u001b[0;34m)\u001b[0m\u001b[0;34m:\u001b[0m\u001b[0;34m\u001b[0m\u001b[0;34m\u001b[0m\u001b[0m\n\u001b[1;32m    329\u001b[0m             raise TypeError(\n\u001b[0;32m--> 330\u001b[0;31m                 \u001b[0;34m\"first argument must be an iterable of pandas \"\u001b[0m\u001b[0;34m\u001b[0m\u001b[0;34m\u001b[0m\u001b[0m\n\u001b[0m\u001b[1;32m    331\u001b[0m                 \u001b[0;34mf'objects, you passed an object of type \"{type(objs).__name__}\"'\u001b[0m\u001b[0;34m\u001b[0m\u001b[0;34m\u001b[0m\u001b[0m\n\u001b[1;32m    332\u001b[0m             )\n",
            "\u001b[0;31mTypeError\u001b[0m: first argument must be an iterable of pandas objects, you passed an object of type \"DataFrame\""
          ]
        }
      ]
    },
    {
      "cell_type": "markdown",
      "source": [
        "## Phase 5 - Ausgabe (Inhalte der indirekten Treffer - 2ter Ordnung)"
      ],
      "metadata": {
        "id": "3fnfcdTvHml7"
      }
    },
    {
      "cell_type": "code",
      "source": [
        "edgelist_graph = list(F.edges.data(\"edge_typ\"))\n",
        "\n",
        "second_order_orig_ids = []\n",
        "second_order_norm_ids = []\n",
        "\n",
        "indirect_client_source = []\n",
        "indirect_client_source_norm = []\n",
        "indirect_client_target = []\n",
        "indirect_client_target_norm = []\n",
        "indirect_memberships_source = []\n",
        "indirect_memberships_source_norm = []\n",
        "indirect_memberships_target = []\n",
        "indirect_memberships_target_norm = []\n",
        "clients_of = []\n",
        "client = []\n",
        "member_in = []\n",
        "memberships = []\n",
        "\n",
        "\n",
        "for i in range(len(first_order_orig_ids)):\n",
        "  for (u, v, t) in F.edges.data(\"edge_typ\"):\n",
        "    if \"Auftraggeber\" in F.edges[u, v][\"edge_typ\"]:\n",
        "      if first_order_orig_ids[i] == u:\n",
        "        indirect_client_source.append(v)\n",
        "      if first_order_orig_ids[i] == v:\n",
        "        indirect_client_target.append(u)\n",
        "        \n",
        "    if \"Mitglied\" in F.edges[u, v][\"edge_typ\"]:\n",
        "      if first_order_orig_ids[i] == u:\n",
        "        indirect_memberships_source.append(v)\n",
        "      if first_order_orig_ids[i] == v:\n",
        "        indirect_memberships_target.append(u)\n",
        "\n",
        "\n",
        "for i in range(len(indirect_client_source)):\n",
        "  clients_of.append(orig_nodes.loc[orig_nodes['node_id'] == indirect_client_source[i]])\n",
        "  second_order_orig_ids.append(indirect_client_source[i])\n",
        "for i in range(len(indirect_client_target)):\n",
        "  client.append(orig_nodes.loc[orig_nodes['node_id'] == indirect_client_target[i]])\n",
        "  second_order_orig_ids.append(indirect_client_target[i])\n",
        "for i in range(len(indirect_memberships_source)):\n",
        "  member_in.append(orig_nodes.loc[orig_nodes['node_id'] == indirect_memberships_source[i]])\n",
        "  second_order_orig_ids.append(indirect_memberships_source[i])\n",
        "for i in range(len(indirect_memberships_target)):\n",
        "  memberships.append(orig_nodes.loc[orig_nodes['node_id'] == indirect_memberships_target[i]])\n",
        "  second_order_orig_ids.append(indirect_memberships_target[i])\n",
        "\n",
        "\n",
        "for (u, v, t) in F.edges.data(\"edge_typ\"):\n",
        "  if \"Normalform\" in F.edges[u, v][\"edge_typ\"]:\n",
        "\n",
        "    for i in range(len(indirect_client_source)):\n",
        "      if v == indirect_client_source[i]:\n",
        "        df = norm_nodes.loc[norm_nodes[\"node_id\"] == u]\n",
        "        second_order_norm_ids.append(u)\n",
        "        nda = df[\"bezeichnung\"].unique()\n",
        "        norm_bez = np.array2string(nda)\n",
        "        indirect_client_source_norm.append(norm_bez)\n",
        "\n",
        "    for i in range(len(indirect_client_target)):\n",
        "      if v == indirect_client_target[i]:\n",
        "        df = norm_nodes.loc[norm_nodes[\"node_id\"] == u]\n",
        "        second_order_norm_ids.append(u)\n",
        "        nda = df[\"bezeichnung\"].unique()\n",
        "        norm_bez = np.array2string(nda)\n",
        "        indirect_client_target_norm.append(norm_bez)\n",
        "\n",
        "    for i in range(len(indirect_memberships_source)):\n",
        "      if v == indirect_memberships_source[i]:\n",
        "        df = norm_nodes.loc[norm_nodes[\"node_id\"] == u]\n",
        "        second_order_norm_ids.append(u)\n",
        "        nda = df[\"bezeichnung\"].unique()\n",
        "        norm_bez = np.array2string(nda)\n",
        "        indirect_memberships_source_norm.append(norm_bez)\n",
        "\n",
        "    for i in range(len(indirect_memberships_target)):\n",
        "      if v == indirect_memberships_target[i]:\n",
        "        df = norm_nodes.loc[norm_nodes[\"node_id\"] == u]\n",
        "        second_order_norm_ids.append(u)\n",
        "        nda = df[\"bezeichnung\"].unique()\n",
        "        norm_bez = np.array2string(nda)\n",
        "        indirect_memberships_target_norm.append(norm_bez)    \n",
        "\n",
        "indirect_client_source_norm = list(set(indirect_client_source_norm))\n",
        "indirect_client_target_norm = list(set(indirect_client_target_norm))\n",
        "indirect_memberships_source_norm = list(set(indirect_memberships_source_norm))\n",
        "indirect_memberships_target_norm = list(set(indirect_memberships_target_norm))\n",
        "\n",
        "\n",
        "print(hr + hr)\n",
        "print(query + \" ist Auftraggeber von: \" + str(len(indirect_client_source_norm)))\n",
        "print(indirect_client_source_norm)\n",
        "print(hr)\n",
        "print(\"Folgende sind Auftraggeber von \" + query + \": \" + str(len(indirect_client_target_norm)))\n",
        "print(indirect_client_target_norm)\n",
        "print(hr)\n",
        "print(query + \" ist Mitglied in: \" + str(len(indirect_memberships_source_norm)))\n",
        "print(indirect_memberships_source_norm)\n",
        "print(hr)\n",
        "print(\"Folgende sind Mitglied in \" + query + \": \" + str(len(indirect_memberships_target_norm)))\n",
        "print(indirect_memberships_target_norm)\n"
      ],
      "metadata": {
        "colab": {
          "base_uri": "https://localhost:8080/"
        },
        "id": "ZXBQ9TwzJ4wn",
        "outputId": "2e76e1cd-2535-42b6-ff59-f8e8a86ec4e4"
      },
      "execution_count": 17,
      "outputs": [
        {
          "output_type": "stream",
          "name": "stdout",
          "text": [
            "----------\n",
            "SPD ist Auftraggeber von: 0\n",
            "[]\n",
            "-----\n",
            "Folgende sind Auftraggeber von SPD: 0\n",
            "[]\n",
            "-----\n",
            "SPD ist Mitglied in: 11\n",
            "[\"['e.V.']\", \"['Charta der Vielfalt']\", \"['Europäische Bewegung']\", \"['V.']\", \"['Charta der Vielfalt e.V.']\", \"['Deutschland']\", \"['Europäische Bewegung Deutschland e.V. (EBD)']\", \"['Europäische Bewegung Deutschland']\", \"['EBD']\", \"['Europäische Bewegung Deutschland e.V.']\", \"['Europäische Bewegung Deutschland e.V']\"]\n",
            "-----\n",
            "Folgende sind Mitglied in SPD: 191\n",
            "[\"['ista SE']\", \"['Verband der Universitätsklinika Deutschlands (VUD)']\", \"['Toyota Motor Europe NV/SA, Berlin Office']\", \"['Wirtschaftsverband Fuels und Energie e.V. - en2x -']\", \"['Samsung Electronics GmbH']\", \"['Dortmunder Stadtwerke (DSW21)']\", \"['LÖWEN ENTERTAINMENT GmbH']\", \"['S-Public Services GmbH']\", \"['Westdeutsche Lotterie GmbH & Co. OHG']\", \"['Deutscher Brauer-Bund e.V.']\", \"['Techem']\", \"['Zentralverband des Deutschen Baugewerbes e.V.']\", \"['Janssen-Cilag GmbH']\", \"['Accenture GmbH']\", \"['Covestro Deutschland AG']\", \"['Mercedes-Benz Group AG']\", \"['ProSiebenSat.1 Media SE']\", \"['Amazon Deutschland Services GmbH']\", \"['Stadtwerke München GmbH']\", \"['PepsiCo Deutschland GmbH']\", \"['AT&T Global Network Services Deutschland GmbH']\", \"['SAP SE']\", \"['Swiss Life Deutschland Holding GmbH']\", \"['ABDA - Bundesvereinigung Deutscher Apothekerverbände e. V.']\", \"['Bundesverband der Deutschen Spirituosen-Industrie und -Importeure e. V. (BSI)']\", \"['Pivot Regulatory GmbH']\", \"['Deutsche Kreditbank AG']\", \"['Mainova AG']\", \"['Deutscher Sparkassen- und Giroverband e.V.']\", \"['Viessmann Climate Solutions SE']\", \"['EnBW Energie Baden-Württemberg AG']\", \"['RWE']\", \"['Mastercard']\", \"['Verband der Anbieter von Telekommunikations- und Mehrwertdiensten (VATM) e.V.']\", \"['HAK Beratungs- und Vermögensgesellschaft mbH']\", \"['Bundesverband der Systemgastronomie e.V.']\", \"['Bundesverband Musikindustrie e.V.']\", \"['Johanssen+Kretschmer Strategische Kommunikation GmbH']\", \"['DATABUND e.V.']\", \"['Deutscher Onlinecasinoverband']\", \"['Fuchs & Cie. | Unternehmensberatung für Strategie & Kommunikation GmbH']\", \"['SPECTARIS. Deutscher Industrieverband für Optik, Photonik, Analysen- und Medizintechnik e.V.']\", \"['Gebr. Eickhoff Maschinenfabrik u. Eisengießerei GmbH']\", \"['Landesverband der Privatkliniken in Rheinland-Pfalz und dem Saarland e.V.']\", \"['Wirtschaftsvereinigung Stahl']\", \"['GdW Bundesverband deutscher Wohnungs- und Immobilienunternehmen e.V.']\", \"['Bundesverband energieeffiziente Gebäudehülle (BUVEG) e.V.']\", \"['Bundesverband Investment und Asset Management (BVI)']\", \"['NOVENTI Health SE']\", \"['REWE-Zentralfinanz eG (REWE Group)']\", \"['Sanofi-Aventis Deutschland GmbH']\", \"['Avacon AG']\", \"['TIER Mobility SE']\", \"['Aurubis AG']\", \"['Bundesverband Öffentlicher Banken Deutschlands e.V.']\", \"['JT International Germany GmbH']\", \"['RDA Internationaler Bustouristik Verband e.V.']\", \"['Rud Pedersen Public Affairs Company Germany GmbH']\", \"['Schwarz Unternehmenskommunikation GmbH & Co. KG']\", \"['Edenred Deutschland']\", \"['friedrich30 GmbH & Co. KG']\", \"['Otto (GmbH & Co KG)']\", \"['Verband öffentlicher Versicherer e.V.']\", \"['envia Mitteldeutsche Energie AG']\", \"['Ecclesia Holding GmbH']\", \"['REEMTSMA Cigarettenfabriken GmbH']\", \"['50Hertz Transmission GmbH']\", \"['Amprion GmbH']\", \"['Bundesverband der Pharmazeutischen Industrie e.V.']\", \"['DAPB | Deutsche Agentur für Politikberatung GmbH']\", \"['Verband der Privaten Bausparkassen e.V.']\", \"['Bundesverband der Freien Berufe e. V. (BFB)']\", \"['Allianz Deutschland AG']\", \"['Zentraler Immobilien Ausschuss (ZIA) e.V.']\", \"['Verband der Privaten Krankenversicherung e.V.']\", \"['OVID Verband der ölsaatenverarbeitenden Industrie in Deutschland e.V.']\", \"['Deutscher Verband für Telekommunikation und Medien (DVTM) e.V.']\", \"['Bernstein Public Policy GmbH']\", \"['Deutscher Reiseverband e.V.']\", \"['Bundesverband deutscher Banken e.V.']\", \"['Microsoft Deutschland GmbH']\", \"['Philip Morris GmbH']\", \"['Bundesverband Alternative Investments e.V.']\", \"['365 Sherpas GmbH']\", \"['BFW Bundesverband Freier Immobilien- und Wohnungsunternehmen e.V.']\", \"['VAIS Verband für Anlagentechnik und IndustrieService e.V.']\", \"['CHECK24 Consulting GmbH']\", \"['Deutscher Franchiseverband']\", \"['APK AG']\", \"['Bundesverband der Deutschen Luftverkehrswirtschaft e.V.']\", \"['AUDI AG']\", \"['Wirtschafliche Vereinigung Zucker e.V.']\", \"['Bayer AG']\", \"['ALDI SÜD Dienstleistungs-SE & Co. oHG']\", \"['Siemens AG']\", \"['Zentralverband Deutsches Kraftfahrzeuggewerbe e.V.']\", \"['Coca-Cola Europacific Partners Deutschland']\", \"['Commerzbank AG']\", \"['Autobahn Tank & Rast Gruppe GmbH & Co. KG']\", \"['Asklepios Kliniken GmbH & Co. KGaA']\", \"['Robert Bosch GmbH']\", \"['ING-DiBa AG']\", \"['B. Braun SE']\", \"['Bundesverband der Arzneimittel-Hersteller (BAH) e.V.']\", \"['EUTOP International GmbH (EUTOP)']\", \"['TRIMET Aluminium SE']\", \"['ZVEI e. V. - Verband der Elektro- und Digitalindustrie']\", \"['Deloitte GmbH Wirtschaftsprüfungsgesellschaft']\", \"['Krauss-Maffei Wegmann GmbH & Co. KG']\", \"['Safran GmbH']\", \"['Uniper SE']\", \"['Bundesverband der Deutschen Kalkindustrie e. V.']\", \"['Vonovia SE']\", \"['Bayerische Motoren Werke Aktiengesellschaft']\", \"['Brainlab AG']\", \"['Uber Germany GmbH']\", \"['Verband der Chemischen Industrie e.V.']\", \"['HENSOLDT AG']\", \"['Bundesverband Deutscher Unternehmensberatungen BDU e.V.']\", \"['SCHMIDT Gruppe Service GmbH']\", \"['Institut der Wirtschaftsprüfer in Deutschland e.V. (IDW)']\", \"['VOTUM Verband Unabhängiger Finanzdienstleistungsunternehmen in Europa e.V.']\", \"['Becker Büttner Held, Rechtsanwälte Wirtschaftsprüfer Steuerberater PartGmbB']\", \"['E.ON SE']\", \"['8KU GmbH']\", \"['Bundesverband Neue Energiewirtschaft']\", \"['Bundesverband des Deutschen Lebensmittelhandels e.V. (BVLH)']\", \"['VIK Verband der Industriellen Energie- und Kraftwirschaft e.V.']\", \"['Facebook Germany GmbH']\", \"['Hewlett-Packard GmbH']\", \"['DWS Group GmbH & Co. KGaA']\", \"['DIE FAMILIENUNTERNEHMER e.V. - DIE JUNGEN UNTERNEHMER']\", \"['R+V Versicherung AG']\", \"['BASF SE']\", \"['Huawei Technologies Deutschland GmbH']\", \"['Deutsche Telekom AG']\", \"['AfW Bundesverband Finanzdienstleistung e.V.']\", \"['Gesamtverband Kommunikationsagenturen GWA e.V.']\", \"['Verband der Wohnungs- und Immobilienwirtschaft Rheinland Westfalen e. V. (VdW Rheinland Westfalen)']\", \"['CONCILIUS AG']\", \"['Stiftung Marktwirtschaft']\", \"['Deutsche Börse AG']\", \"['Hauptverband der Deutschen Bauindustrie e.V.']\", \"['RheinEnergie AG']\", \"['Veolia Deutschland GmbH']\", \"['secunet Security Networks AG']\", \"['Onyx Germany GmbH']\", \"['TransnetBW GmbH']\", \"['Verband Deutscher Verkehrsunternehmen (VDV)']\", \"['VKU - Verband kommunaler Unternehmen e.V.']\", \"['Braunschweiger Netz GmbH']\", \"['Bundesverband Erdgas, Erdöl und Geoenergie e.V.']\", \"['Verband der Immobilienverwalter Deutschland e.V.']\", \"['Hays']\", \"['Deutsche Energie-Agentur GmbH']\", \"['Union Asset Management Holding AG']\", \"['Deutscher Steuerberaterverband e.V.']\", \"['Immobilienverband Deutschland IVD Bundesverband der Immobilienberater, Makler, Verwalter und Sachverständigen e.V.']\", \"['Verband Forschender Arzneimittelhersteller e.V. (vfa)']\", \"['Ernst & Young GmbH Wirtschaftsprüfungsgesellschaft']\", \"['Handelsverband Deutschland - HDE - e. V.']\", \"['Bundesverband der Deutschen Süßwarenindustrie e. V.']\", \"['Bundesverband Baustoffe - Steine und Erden e.V.']\", \"['Deutscher Sportwettenverband e. V.']\", \"['Google Germany GmbH']\", \"['BDEW Bundesverband der Energie- und Wasserwirtschaft e.V.']\", \"['Gauly Advisors GmbH']\", \"['Verband norddeutscher Wohnungsunternehmen e.V. (VNW)']\", \"['Interel Deutschland GmbH']\", \"['Advicepartners GmbH']\", \"['Bundesverband der Deutschen Volksbanken und Raiffeisenbanken e.V. (BVR)']\", \"['Deutsche Bank AG']\", \"['Salzgitter AG (Holding)']\", \"['Autodesk GmbH']\", \"['Telefónica Germany GmbH & Co. OHG']\", \"['Die Deutsche Automatenwirtschaft e.V.']\", \"['BP Europa SE']\", \"['Bundesverband Deutscher Omnibusunternehmen e. V.']\", \"['Evonik Industries AG']\", \"['Bundesarbeitsgemeinschaft Werkstätten für behinderte Menschen e. V.']\", \"['Der Mittelstand, BVMW e.V. Bundesverband mittelständische Wirtschaft']\", \"['Bundesverband Mineralische Rohstoffe e.V. (BV MIRO)']\", \"['DocMorris N.V.']\", \"['Gauselmann AG']\", \"['Currenta GmbH & Co. OHG']\", \"['TenneT TSO GmbH']\", \"['Orsted Wind Power Germany GmbH']\", \"['Bundesverband der Zigarrenindustrie e.V.']\", \"['von Beust & Coll. Beratungsgesellschaft mbH & Co. KG']\", \"['ALBA']\", \"['S&P Global Germany GmbH']\"]\n"
          ]
        }
      ]
    },
    {
      "cell_type": "markdown",
      "source": [
        "## Phase 6 - Speichern"
      ],
      "metadata": {
        "id": "nU9bvSLRQrkQ"
      }
    },
    {
      "cell_type": "code",
      "source": [
        "query_node_ids = first_order_norm_ids + first_order_orig_ids + second_order_norm_ids + second_order_orig_ids\n",
        "query_node_ids = list(set(query_node_ids))\n",
        "\n",
        "Q = F.subgraph(query_node_ids)\n",
        "Q.graph['name'] = \"q_\" + query[0:10] + \"_\" + str(datetime.now().strftime('%y%m%d-%H%M'))\n",
        "Q.graph['Abfrage'] = query\n",
        "\n",
        "###Saving query-subgraph as graphml\n",
        "nx.write_graphml(Q, path_jp + Q.graph['name'] + '.graphml', encoding='utf-8')\n",
        "out_graphml = Q.graph['name'] + '.graphml'"
      ],
      "metadata": {
        "id": "dglrUOOVQx2y"
      },
      "execution_count": 20,
      "outputs": []
    },
    {
      "cell_type": "markdown",
      "source": [
        "## Ablage"
      ],
      "metadata": {
        "id": "oOmG9-5OJ1OL"
      }
    },
    {
      "cell_type": "code",
      "source": [
        "%reset"
      ],
      "metadata": {
        "colab": {
          "base_uri": "https://localhost:8080/"
        },
        "id": "wTwuyq3yXGIk",
        "outputId": "82d260d4-8c60-48a9-d384-444d6f12041f"
      },
      "execution_count": null,
      "outputs": [
        {
          "name": "stdout",
          "output_type": "stream",
          "text": [
            "Once deleted, variables cannot be recovered. Proceed (y/[n])? y\n"
          ]
        }
      ]
    },
    {
      "cell_type": "code",
      "source": [
        "print(\"Graph: \" + F.graph['name'])\n",
        "print(\"Importierte Normalformen: \" + F.graph['files_norm'])\n",
        "print(\"Importierte Originalformen: \" + F.graph['files_orig'])\n",
        "print(\"-------------\")\n",
        "\n",
        "###Number of nodes:\n",
        "tmp_nodes = list(F)\n",
        "tmp_count_nodes_all = len(tmp_nodes)\n",
        "\n",
        "####Count norm-nodes\n",
        "tmp_count_nodes_norm, tmp_count_nodes_orig = 0, 0\n",
        "for tmp_i in range(len(tmp_nodes)):\n",
        "  if str(tmp_nodes[tmp_i]).startswith(\"norm\") == True:\n",
        "    tmp_count_nodes_norm = tmp_count_nodes_norm + 1\n",
        "  elif str(tmp_nodes[tmp_i]).startswith(\"orig\") == True:\n",
        "    tmp_count_nodes_orig = tmp_count_nodes_orig + 1\n",
        "\n",
        "tmp_out_count_node = \"Knoten: \" + str(tmp_count_nodes_all)\n",
        "tmp_out_count_nodes_norm = \"Normalformen (\" + str(tmp_count_nodes_norm) + \")\"\n",
        "tmp_out_count_nodes_orig = \"Originalformen (\" + str(tmp_count_nodes_orig) + \")\"\n",
        "\n",
        "print(tmp_out_count_node + \" - \" + tmp_out_count_nodes_norm + \" & \" + tmp_out_count_nodes_orig)\n",
        "\n",
        "###Number of edges\n",
        "tmp_edges = F.edges()\n",
        "tmp_count_edges = len(tmp_edges)\n",
        "\n",
        "edgelist = nx.to_pandas_edgelist(F)\n",
        "\n",
        "edges_values = edgelist['edge_typ'].value_counts()\n",
        "edges_values_dict = edges_values.to_dict()\n",
        "print(\"Kanten: \" + str(tmp_count_edges) + \" - 'Normalform von' (\" + str(edges_values_dict[\"ist die Normalform von\"]) + \"), 'Auftraggeber von' (\" + str(edges_values_dict[\"ist ein Auftraggeber von\"]) + \") & 'Mitglied in' (\" + str(edges_values_dict[\"ist ein Mitglied in\"]) + \")\")\n",
        "\n",
        "### Resetting temporary variables\n",
        "%reset_selective -f tmp"
      ],
      "metadata": {
        "colab": {
          "base_uri": "https://localhost:8080/"
        },
        "id": "zrhhkVYUgdSh",
        "outputId": "75b00435-6a70-4ef9-cee0-ee958fbf75f6"
      },
      "execution_count": 8,
      "outputs": [
        {
          "output_type": "stream",
          "name": "stdout",
          "text": [
            "Graph: g_220926-1507\n",
            "Importierte Normalformen: ['2022-09-20_norm.csv']\n",
            "Importierte Originalformen: ['2022-09-20_orig_lobbyisten.csv', '2022-09-20_orig_mitgliedschaften.csv', '2022-09-20_orig_auftraggeber.csv']\n",
            "-------------\n",
            "Knoten: 46232 - Normalformen (25388) & Originalformen (20844)\n",
            "Kanten: 77587 - 'Normalform von' (20844), 'Auftraggeber von' (1897) & 'Mitglied in' (54846)\n"
          ]
        }
      ]
    }
  ]
}